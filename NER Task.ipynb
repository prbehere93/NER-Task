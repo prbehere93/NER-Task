{
 "cells": [
  {
   "cell_type": "code",
   "execution_count": 159,
   "metadata": {},
   "outputs": [],
   "source": [
    "import pandas as pd\n",
    "import numpy as np"
   ]
  },
  {
   "cell_type": "code",
   "execution_count": 160,
   "metadata": {},
   "outputs": [],
   "source": [
    "text=pd.read_csv(\"coupons_ner.csv\",header=None)"
   ]
  },
  {
   "cell_type": "code",
   "execution_count": 161,
   "metadata": {},
   "outputs": [
    {
     "data": {
      "text/html": [
       "<div>\n",
       "<style scoped>\n",
       "    .dataframe tbody tr th:only-of-type {\n",
       "        vertical-align: middle;\n",
       "    }\n",
       "\n",
       "    .dataframe tbody tr th {\n",
       "        vertical-align: top;\n",
       "    }\n",
       "\n",
       "    .dataframe thead th {\n",
       "        text-align: right;\n",
       "    }\n",
       "</style>\n",
       "<table border=\"1\" class=\"dataframe\">\n",
       "  <thead>\n",
       "    <tr style=\"text-align: right;\">\n",
       "      <th></th>\n",
       "      <th>0</th>\n",
       "    </tr>\n",
       "  </thead>\n",
       "  <tbody>\n",
       "    <tr>\n",
       "      <th>0</th>\n",
       "      <td>Save $2.00 ONE Downy Liquid Fabric Conditioner...</td>\n",
       "    </tr>\n",
       "    <tr>\n",
       "      <th>1</th>\n",
       "      <td>Save $2.00 ONE Tide PODS OR Tide Power PODS (e...</td>\n",
       "    </tr>\n",
       "    <tr>\n",
       "      <th>2</th>\n",
       "      <td>Save $2.00 ONE Tide Laundry Detergent (exclude...</td>\n",
       "    </tr>\n",
       "    <tr>\n",
       "      <th>3</th>\n",
       "      <td>SAVE $1.00 ON TWO when you buy TWO BOXES (8.9 ...</td>\n",
       "    </tr>\n",
       "    <tr>\n",
       "      <th>4</th>\n",
       "      <td>$3.00 OFF when you purchase any THREE (3) Pepp...</td>\n",
       "    </tr>\n",
       "    <tr>\n",
       "      <th>...</th>\n",
       "      <td>...</td>\n",
       "    </tr>\n",
       "    <tr>\n",
       "      <th>881</th>\n",
       "      <td>SAVE $2.00 when you buy $7 worth of participat...</td>\n",
       "    </tr>\n",
       "    <tr>\n",
       "      <th>882</th>\n",
       "      <td>SAVE $5.00 on any Gain scented purchase of $30...</td>\n",
       "    </tr>\n",
       "    <tr>\n",
       "      <th>883</th>\n",
       "      <td>SAVE $1.00 when you buy any ONE (1) NEW AXE pr...</td>\n",
       "    </tr>\n",
       "    <tr>\n",
       "      <th>884</th>\n",
       "      <td>BUY TWO GET ONE Buy ONE (1) CHIPS AHOY! Cookie...</td>\n",
       "    </tr>\n",
       "    <tr>\n",
       "      <th>885</th>\n",
       "      <td>SAVE $2.00 when you spend $6 on all Suave® pro...</td>\n",
       "    </tr>\n",
       "  </tbody>\n",
       "</table>\n",
       "<p>886 rows × 1 columns</p>\n",
       "</div>"
      ],
      "text/plain": [
       "                                                     0\n",
       "0    Save $2.00 ONE Downy Liquid Fabric Conditioner...\n",
       "1    Save $2.00 ONE Tide PODS OR Tide Power PODS (e...\n",
       "2    Save $2.00 ONE Tide Laundry Detergent (exclude...\n",
       "3    SAVE $1.00 ON TWO when you buy TWO BOXES (8.9 ...\n",
       "4    $3.00 OFF when you purchase any THREE (3) Pepp...\n",
       "..                                                 ...\n",
       "881  SAVE $2.00 when you buy $7 worth of participat...\n",
       "882  SAVE $5.00 on any Gain scented purchase of $30...\n",
       "883  SAVE $1.00 when you buy any ONE (1) NEW AXE pr...\n",
       "884  BUY TWO GET ONE Buy ONE (1) CHIPS AHOY! Cookie...\n",
       "885  SAVE $2.00 when you spend $6 on all Suave® pro...\n",
       "\n",
       "[886 rows x 1 columns]"
      ]
     },
     "execution_count": 161,
     "metadata": {},
     "output_type": "execute_result"
    }
   ],
   "source": [
    "text"
   ]
  },
  {
   "cell_type": "markdown",
   "metadata": {},
   "source": [
    "### Exercise 1 - Returning the FaceValue as Output"
   ]
  },
  {
   "cell_type": "code",
   "execution_count": 162,
   "metadata": {},
   "outputs": [],
   "source": [
    "import re"
   ]
  },
  {
   "cell_type": "code",
   "execution_count": 163,
   "metadata": {},
   "outputs": [
    {
     "data": {
      "text/plain": [
       "'Save $2.00 ONE Downy Liquid Fabric Conditioner 72 ld or larger (includes Downy Odor Protect 48 oz or larger OR Downy Wrinkle Guard 40 oz or larger OR Downy Nature Blends 67 oz or larger) OR Bounce/Downy Sheets 130 ct or larger (includes Bounce/Downy Wrinkle Guard 80 ct or larger) OR In Wash Scent Boosters 8.6 oz or larger (includes Downy Unstopables, Fresh Protect, Odor Protect, and Infusions) (excludes Downy Libre Enjuague, Gain Fireworks, and trial/travel size).'"
      ]
     },
     "execution_count": 163,
     "metadata": {},
     "output_type": "execute_result"
    }
   ],
   "source": [
    "text[0][0]"
   ]
  },
  {
   "cell_type": "markdown",
   "metadata": {},
   "source": [
    "Using Regex to separate the currency/facevalue\n",
    "\n",
    "Logic - \n",
    "Starts with a '$', 1 or more digits, a decimal point(\\.), 0 or more digits.\n",
    "\n",
    "or\n",
    "Digits followed by cents\n",
    "\n",
    "or\n",
    "Single digit after $\n",
    "\n",
    "or\n",
    "Decimal after $ followed by 1 or more digits"
   ]
  },
  {
   "cell_type": "code",
   "execution_count": 170,
   "metadata": {},
   "outputs": [],
   "source": [
    "def find_FV(text):\n",
    "    if type(text)==str:\n",
    "        return(re.findall('\\$[0-9]+\\.[0-9]*|[0-9]+¢|\\$[0-9]+|\\$\\.[0-9]+',text))\n",
    "    else:\n",
    "        return([re.findall('\\$[0-9]+\\.[0-9]*|[0-9]+¢|\\$[0-9]+|\\$\\.[0-9]+',text[0][i]) for i in range(0,len(text))])"
   ]
  },
  {
   "cell_type": "code",
   "execution_count": 166,
   "metadata": {},
   "outputs": [
    {
     "data": {
      "text/plain": [
       "['$2.00']"
      ]
     },
     "execution_count": 166,
     "metadata": {},
     "output_type": "execute_result"
    }
   ],
   "source": [
    "FaceValue=find_FV('Save $2.00 ONE Downy Liquid Fabric Conditioner 72 ld or larger (includes Downy Odor Protect 48 oz or larger OR Downy Wrinkle Guard 40 oz or larger OR Downy Nature Blends 67 oz or larger) OR Bounce/Downy Sheets 130 ct or larger (includes Bounce/Downy Wrinkle Guard 80 ct or larger) OR In Wash Scent Boosters 8.6 oz or larger (includes Downy Unstopables, Fresh Protect, Odor Protect, and Infusions) (excludes Downy Libre Enjuague, Gain Fireworks, and trial/travel size).')\n",
    "FaceValue"
   ]
  },
  {
   "cell_type": "code",
   "execution_count": 181,
   "metadata": {},
   "outputs": [
    {
     "data": {
      "text/plain": [
       "['$0.50']"
      ]
     },
     "execution_count": 181,
     "metadata": {},
     "output_type": "execute_result"
    }
   ],
   "source": [
    "find_FV(\"where are my $0.50\")"
   ]
  },
  {
   "cell_type": "code",
   "execution_count": 182,
   "metadata": {},
   "outputs": [
    {
     "data": {
      "text/plain": [
       "['$.56']"
      ]
     },
     "execution_count": 182,
     "metadata": {},
     "output_type": "execute_result"
    }
   ],
   "source": [
    "find_FV(\"please lend me $.56\")"
   ]
  },
  {
   "cell_type": "code",
   "execution_count": 176,
   "metadata": {},
   "outputs": [],
   "source": [
    "#Extracting the FaceValue from all the entries\n",
    "FV_all=find_FV(text)"
   ]
  },
  {
   "cell_type": "code",
   "execution_count": 178,
   "metadata": {},
   "outputs": [],
   "source": [
    "#To check how many entries did not return a FaceValue and their corresponding index\n",
    "s=0\n",
    "c=[]\n",
    "for i in range(0,len(FV_all)):\n",
    "    if FV_all[i]==[]:\n",
    "        c.append(i)\n",
    "        s=s+1"
   ]
  },
  {
   "cell_type": "code",
   "execution_count": 179,
   "metadata": {},
   "outputs": [
    {
     "data": {
      "text/plain": [
       "273"
      ]
     },
     "execution_count": 179,
     "metadata": {},
     "output_type": "execute_result"
    }
   ],
   "source": [
    "s"
   ]
  },
  {
   "cell_type": "markdown",
   "metadata": {},
   "source": [
    "There are 273 null empty lists in FaceValue.\n",
    "These are entries which do not contain any FaceValue text"
   ]
  },
  {
   "cell_type": "markdown",
   "metadata": {},
   "source": [
    "# TASK 2 - Find the product names using NER"
   ]
  },
  {
   "cell_type": "markdown",
   "metadata": {},
   "source": [
    "# NER"
   ]
  },
  {
   "cell_type": "code",
   "execution_count": 183,
   "metadata": {},
   "outputs": [],
   "source": [
    "#!pip install spacy"
   ]
  },
  {
   "cell_type": "code",
   "execution_count": 184,
   "metadata": {},
   "outputs": [],
   "source": [
    "#!pip install https://github.com/explosion/spacy-models/releases/download/en_core_web_sm-2.2.0/en_core_web_sm-2.2.0.tar.gz\n"
   ]
  },
  {
   "cell_type": "code",
   "execution_count": 254,
   "metadata": {},
   "outputs": [],
   "source": [
    "import spacy\n",
    "from tqdm import tqdm\n",
    "nlp=spacy.load('en')"
   ]
  },
  {
   "cell_type": "code",
   "execution_count": 255,
   "metadata": {},
   "outputs": [
    {
     "name": "stdout",
     "output_type": "stream",
     "text": [
      "Apple 17 22 ORG\n"
     ]
    }
   ],
   "source": [
    "d1=nlp(\"What is his Name Apple\")\n",
    "for t in d1.ents:\n",
    "    print(t.text, t.start_char, t.end_char, t.label_)"
   ]
  },
  {
   "cell_type": "code",
   "execution_count": 256,
   "metadata": {},
   "outputs": [
    {
     "name": "stdout",
     "output_type": "stream",
     "text": [
      "Downy Liquid Fabric Conditioner 0 31 ORG\n",
      "72 32 34 DATE\n",
      "Downy Odor Protect 58 76 LOC\n",
      "48 77 79 DATE\n",
      "Downy Wrinkle Guard 40 96 118 WORK_OF_ART\n",
      "Downy Nature Blends 135 154 WORK_OF_ART\n",
      "67 155 157 DATE\n",
      "Bounce/Downy Wrinkle Guard 80 222 251 EVENT\n",
      "Downy Unstopables 319 336 ORG\n"
     ]
    }
   ],
   "source": [
    "#CHecking to see how the base spacy 'en' model does on the given text\n",
    "d2= nlp('Downy Liquid Fabric Conditioner 72 ld or larger (includes Downy Odor Protect 48 oz or larger OR Downy Wrinkle Guard 40 oz or larger OR Downy Nature Blends 67 oz or larger) OR Bounce/Downy Sheets 130 ct or larger (includes Bounce/Downy Wrinkle Guard 80 ct or larger) OR In Wash Scent Boosters 8.6 oz or larger (includes Downy Unstopables, ')\n",
    "for t in d2.ents:\n",
    "    print(t.text, t.start_char, t.end_char, t.label_)"
   ]
  },
  {
   "cell_type": "markdown",
   "metadata": {},
   "source": [
    "The base model does not perform well.\n",
    "\n",
    "We can build a training corpus for custom NER using spacy."
   ]
  },
  {
   "cell_type": "code",
   "execution_count": 302,
   "metadata": {},
   "outputs": [],
   "source": [
    "# Building a corpus for training the model - \n",
    "train=[\n",
    "    ('ONE Downy Liquid Fabric Conditioner', {'entities':[(4,34, 'PRODUCT')]}),\n",
    "    ('72 ld or larger (includes Downy Odor Protect 48 oz or larger OR Downy Wrinkle Guard 40 oz', {'entities':[(26,43, 'PRODUCT'),(64,82, 'PRODUCT')]}),\n",
    "    ('Downy Unstopables', {'entities':[(0,16, 'PRODUCT')]}),\n",
    "    ('Downy Nature Blends', {'entities':[(0,18, 'PRODUCT')]}),\n",
    "    ('Bounce/Downy Sheets', {'entities':[(0,18, 'PRODUCT')]}),\n",
    "    ('Bounce/Downy Wrinkle Guard includes ', {'entities':[(0,25, 'PRODUCT')]}),\n",
    "    ('Included/excludes/whatever Downy Libre Enjuague', {'entities':[(27,46, 'PRODUCT')]}),\n",
    "]"
   ]
  },
  {
   "cell_type": "code",
   "execution_count": 303,
   "metadata": {},
   "outputs": [],
   "source": [
    "from __future__ import unicode_literals, print_function\n",
    "import plac\n",
    "import random\n",
    "from pathlib import Path"
   ]
  },
  {
   "cell_type": "code",
   "execution_count": 304,
   "metadata": {},
   "outputs": [
    {
     "ename": "SyntaxError",
     "evalue": "unexpected EOF while parsing (<ipython-input-304-d9c61233f5fe>, line 4)",
     "output_type": "error",
     "traceback": [
      "\u001b[1;36m  File \u001b[1;32m\"<ipython-input-304-d9c61233f5fe>\"\u001b[1;36m, line \u001b[1;32m4\u001b[0m\n\u001b[1;33m    n_iter=(\"Number of training iterations\", \"option\", \"n\", int))\u001b[0m\n\u001b[1;37m                                                                 ^\u001b[0m\n\u001b[1;31mSyntaxError\u001b[0m\u001b[1;31m:\u001b[0m unexpected EOF while parsing\n"
     ]
    }
   ],
   "source": [
    "@plac.annotations(\n",
    "    model=(\"Model name. Defaults to blank 'en' model.\", \"option\", \"m\", str),\n",
    "    output_dir=(\"C:\\Users\\asus\\Desktop\\0.Coding Assignment\\NER-Task\", \"option\", \"o\", Path),\n",
    "    n_iter=(\"Number of training iterations\", \"option\", \"n\", int))"
   ]
  },
  {
   "cell_type": "code",
   "execution_count": 305,
   "metadata": {},
   "outputs": [],
   "source": [
    "model=None\n",
    "output_dir=Path(\"C:\\\\Users\\\\asus\\\\Desktop\\\\0.Coding Assignment\\\\NER-Task\")\n",
    "n_iter=100"
   ]
  },
  {
   "cell_type": "code",
   "execution_count": 306,
   "metadata": {},
   "outputs": [
    {
     "name": "stdout",
     "output_type": "stream",
     "text": [
      "Created blank 'en' model\n"
     ]
    }
   ],
   "source": [
    "#Loading the model (if the model is not present it creates a 'blank' model)\n",
    "if model is not None:\n",
    "    nlp = spacy.load(model)  # load existing spaCy model\n",
    "    print(\"Loaded model '%s'\" % model)\n",
    "else:\n",
    "    nlp = spacy.blank('en')  # create blank Language class\n",
    "    print(\"Created blank 'en' model\")"
   ]
  },
  {
   "cell_type": "code",
   "execution_count": 307,
   "metadata": {},
   "outputs": [],
   "source": [
    "# create the built-in pipeline components and add them to the pipeline\n",
    "    # nlp.create_pipe works for built-ins that are registered with spaCy\n",
    "if 'ner' not in nlp.pipe_names:\n",
    "    ner = nlp.create_pipe('ner')\n",
    "    nlp.add_pipe(ner, last=True)\n",
    "# otherwise, get it so we can add labels\n",
    "else:\n",
    "    ner = nlp.get_pipe('ner')"
   ]
  },
  {
   "cell_type": "markdown",
   "metadata": {},
   "source": [
    "Training the NER"
   ]
  },
  {
   "cell_type": "code",
   "execution_count": null,
   "metadata": {},
   "outputs": [
    {
     "name": "stderr",
     "output_type": "stream",
     "text": [
      "\n",
      "\n",
      "  0%|                                                                                            | 0/7 [00:00<?, ?it/s]\u001b[A\u001b[A\n",
      "\n",
      " 14%|████████████                                                                        | 1/7 [00:00<00:01,  4.01it/s]\u001b[A\u001b[A\n",
      "\n",
      " 29%|████████████████████████                                                            | 2/7 [00:00<00:01,  4.50it/s]\u001b[A\u001b[A\n",
      "\n",
      " 43%|████████████████████████████████████                                                | 3/7 [00:00<00:00,  5.02it/s]\u001b[A\u001b[A\n",
      "\n",
      " 57%|████████████████████████████████████████████████                                    | 4/7 [00:00<00:00,  5.62it/s]\u001b[A\u001b[A\n",
      "\n",
      " 86%|████████████████████████████████████████████████████████████████████████            | 6/7 [00:00<00:00,  6.58it/s]\u001b[A\u001b[A\n",
      "\n",
      "100%|████████████████████████████████████████████████████████████████████████████████████| 7/7 [00:00<00:00,  7.07it/s]\u001b[A\u001b[A\n",
      "\n",
      "\n",
      "  0%|                                                                                            | 0/7 [00:00<?, ?it/s]\u001b[A\u001b[A\n",
      "\n",
      " 14%|████████████                                                                        | 1/7 [00:00<00:00,  9.22it/s]\u001b[A\u001b[A"
     ]
    },
    {
     "name": "stdout",
     "output_type": "stream",
     "text": [
      "{'ner': 19.057351276278496}\n"
     ]
    },
    {
     "name": "stderr",
     "output_type": "stream",
     "text": [
      "\n",
      "\n",
      " 29%|████████████████████████                                                            | 2/7 [00:00<00:00,  8.14it/s]\u001b[A\u001b[A\n",
      "\n",
      " 57%|████████████████████████████████████████████████                                    | 4/7 [00:00<00:00,  8.53it/s]\u001b[A\u001b[A\n",
      "\n",
      " 71%|████████████████████████████████████████████████████████████                        | 5/7 [00:00<00:00,  8.83it/s]\u001b[A\u001b[A\n",
      "\n",
      "100%|████████████████████████████████████████████████████████████████████████████████████| 7/7 [00:00<00:00,  9.24it/s]\u001b[A\u001b[A\n",
      "\n",
      "\n",
      "  0%|                                                                                            | 0/7 [00:00<?, ?it/s]\u001b[A\u001b[A"
     ]
    },
    {
     "name": "stdout",
     "output_type": "stream",
     "text": [
      "{'ner': 14.174307689070702}\n"
     ]
    },
    {
     "name": "stderr",
     "output_type": "stream",
     "text": [
      "\n",
      "\n",
      " 29%|████████████████████████                                                            | 2/7 [00:00<00:00,  9.29it/s]\u001b[A\u001b[A\n",
      "\n",
      " 57%|████████████████████████████████████████████████                                    | 4/7 [00:00<00:00,  8.87it/s]\u001b[A\u001b[A\n",
      "\n",
      " 86%|████████████████████████████████████████████████████████████████████████            | 6/7 [00:00<00:00,  9.08it/s]\u001b[A\u001b[A\n",
      "\n",
      "100%|████████████████████████████████████████████████████████████████████████████████████| 7/7 [00:00<00:00,  8.91it/s]\u001b[A\u001b[A\n",
      "\n",
      "\n",
      "  0%|                                                                                            | 0/7 [00:00<?, ?it/s]\u001b[A\u001b[A\n",
      "\n",
      " 29%|████████████████████████                                                            | 2/7 [00:00<00:00, 11.15it/s]"
     ]
    },
    {
     "name": "stdout",
     "output_type": "stream",
     "text": [
      "{'ner': 8.842770128510892}\n"
     ]
    },
    {
     "name": "stderr",
     "output_type": "stream",
     "text": [
      "\u001b[A\u001b[A\n",
      "\n",
      " 57%|████████████████████████████████████████████████                                    | 4/7 [00:00<00:00, 10.27it/s]\u001b[A\u001b[A\n",
      "\n",
      " 71%|████████████████████████████████████████████████████████████                        | 5/7 [00:00<00:00,  9.91it/s]\u001b[A\u001b[A\n",
      "\n",
      "100%|████████████████████████████████████████████████████████████████████████████████████| 7/7 [00:00<00:00,  9.56it/s]\u001b[A\u001b[A\n",
      "\n",
      "\n",
      "  0%|                                                                                            | 0/7 [00:00<?, ?it/s]\u001b[A\u001b[A\n",
      "\n"
     ]
    },
    {
     "name": "stdout",
     "output_type": "stream",
     "text": [
      "{'ner': 4.0024854792281985}\n"
     ]
    },
    {
     "name": "stderr",
     "output_type": "stream",
     "text": [
      " 29%|████████████████████████                                                            | 2/7 [00:00<00:00, 10.91it/s]\u001b[A\u001b[A\n",
      "\n",
      " 43%|████████████████████████████████████                                                | 3/7 [00:00<00:00, 10.60it/s]\u001b[A\u001b[A\n",
      "\n",
      " 57%|████████████████████████████████████████████████                                    | 4/7 [00:00<00:00,  9.23it/s]\u001b[A\u001b[A\n",
      "\n",
      " 71%|████████████████████████████████████████████████████████████                        | 5/7 [00:00<00:00,  8.64it/s]\u001b[A\u001b[A\n",
      "\n",
      "100%|████████████████████████████████████████████████████████████████████████████████████| 7/7 [00:00<00:00,  8.92it/s]\u001b[A\u001b[A\n",
      "\n",
      "\n",
      "  0%|                                                                                            | 0/7 [00:00<?, ?it/s]\u001b[A\u001b[A\n",
      "\n"
     ]
    },
    {
     "name": "stdout",
     "output_type": "stream",
     "text": [
      "{'ner': 0.6901905550311085}\n"
     ]
    },
    {
     "name": "stderr",
     "output_type": "stream",
     "text": [
      " 29%|████████████████████████                                                            | 2/7 [00:00<00:00, 10.83it/s]\u001b[A\u001b[A\n",
      "\n",
      " 57%|████████████████████████████████████████████████                                    | 4/7 [00:00<00:00, 10.70it/s]\u001b[A\u001b[A\n",
      "\n",
      " 71%|████████████████████████████████████████████████████████████                        | 5/7 [00:00<00:00, 10.33it/s]\u001b[A\u001b[A\n",
      "\n",
      " 86%|████████████████████████████████████████████████████████████████████████            | 6/7 [00:00<00:00,  9.89it/s]\u001b[A\u001b[A\n",
      "\n",
      "100%|████████████████████████████████████████████████████████████████████████████████████| 7/7 [00:00<00:00,  9.43it/s]\u001b[A\u001b[A\n",
      "\n",
      "\n",
      "  0%|                                                                                            | 0/7 [00:00<?, ?it/s]\u001b[A\u001b[A"
     ]
    },
    {
     "name": "stdout",
     "output_type": "stream",
     "text": [
      "{'ner': 0.01941533916146462}\n"
     ]
    },
    {
     "name": "stderr",
     "output_type": "stream",
     "text": [
      "\n",
      "\n",
      " 29%|████████████████████████                                                            | 2/7 [00:00<00:00,  9.57it/s]\u001b[A\u001b[A\n",
      "\n",
      " 57%|████████████████████████████████████████████████                                    | 4/7 [00:00<00:00, 10.32it/s]\u001b[A\u001b[A\n",
      "\n",
      " 71%|████████████████████████████████████████████████████████████                        | 5/7 [00:00<00:00,  9.99it/s]\u001b[A\u001b[A\n",
      "\n",
      " 86%|████████████████████████████████████████████████████████████████████████            | 6/7 [00:00<00:00,  9.11it/s]\u001b[A\u001b[A\n",
      "\n",
      "100%|████████████████████████████████████████████████████████████████████████████████████| 7/7 [00:00<00:00,  9.73it/s]\u001b[A\u001b[A\n",
      "\n",
      "\n",
      "  0%|                                                                                            | 0/7 [00:00<?, ?it/s]\u001b[A\u001b[A\n",
      "\n",
      " 14%|████████████                                                                        | 1/7 [00:00<00:00,  8.70it/s]\u001b[A\u001b[A"
     ]
    },
    {
     "name": "stdout",
     "output_type": "stream",
     "text": [
      "{'ner': 9.354380431565541e-05}\n"
     ]
    },
    {
     "name": "stderr",
     "output_type": "stream",
     "text": [
      "\n",
      "\n",
      " 43%|████████████████████████████████████                                                | 3/7 [00:00<00:00,  8.89it/s]\u001b[A\u001b[A\n",
      "\n",
      " 57%|████████████████████████████████████████████████                                    | 4/7 [00:00<00:00,  8.71it/s]\u001b[A\u001b[A\n",
      "\n",
      " 86%|████████████████████████████████████████████████████████████████████████            | 6/7 [00:00<00:00,  9.05it/s]\u001b[A\u001b[A\n",
      "\n",
      "100%|████████████████████████████████████████████████████████████████████████████████████| 7/7 [00:00<00:00,  8.80it/s]\u001b[A\u001b[A\n",
      "\n",
      "\n",
      "  0%|                                                                                            | 0/7 [00:00<?, ?it/s]\u001b[A\u001b[A\n",
      "\n",
      " 14%|████████████                                                                        | 1/7 [00:00<00:00,  8.38it/s]\u001b[A\u001b[A"
     ]
    },
    {
     "name": "stdout",
     "output_type": "stream",
     "text": [
      "{'ner': 4.676461856588051e-06}\n"
     ]
    },
    {
     "name": "stderr",
     "output_type": "stream",
     "text": [
      "\n",
      "\n",
      " 43%|████████████████████████████████████                                                | 3/7 [00:00<00:00,  9.28it/s]\u001b[A\u001b[A\n",
      "\n",
      " 57%|████████████████████████████████████████████████                                    | 4/7 [00:00<00:00,  9.48it/s]\u001b[A\u001b[A\n",
      "\n",
      " 71%|████████████████████████████████████████████████████████████                        | 5/7 [00:00<00:00,  9.01it/s]\u001b[A\u001b[A\n",
      "\n",
      "100%|████████████████████████████████████████████████████████████████████████████████████| 7/7 [00:00<00:00,  9.82it/s]\u001b[A\u001b[A\n",
      "\n",
      "\n",
      "  0%|                                                                                            | 0/7 [00:00<?, ?it/s]\u001b[A\u001b[A\n",
      "\n",
      " 14%|████████████                                                                        | 1/7 [00:00<00:00,  8.46it/s]\u001b[A\u001b[A"
     ]
    },
    {
     "name": "stdout",
     "output_type": "stream",
     "text": [
      "{'ner': 8.575356624814561e-08}\n"
     ]
    },
    {
     "name": "stderr",
     "output_type": "stream",
     "text": [
      "\n",
      "\n",
      " 29%|████████████████████████                                                            | 2/7 [00:00<00:00,  8.79it/s]\u001b[A\u001b[A\n",
      "\n",
      " 57%|████████████████████████████████████████████████                                    | 4/7 [00:00<00:00,  9.19it/s]\u001b[A\u001b[A\n",
      "\n",
      " 71%|████████████████████████████████████████████████████████████                        | 5/7 [00:00<00:00,  7.87it/s]\u001b[A\u001b[A\n",
      "\n",
      "100%|████████████████████████████████████████████████████████████████████████████████████| 7/7 [00:00<00:00,  8.81it/s]\u001b[A\u001b[A\n",
      "\n",
      "\n",
      "  0%|                                                                                            | 0/7 [00:00<?, ?it/s]\u001b[A\u001b[A\n",
      "\n",
      " 14%|████████████                                                                        | 1/7 [00:00<00:00,  7.05it/s]\u001b[A\u001b[A"
     ]
    },
    {
     "name": "stdout",
     "output_type": "stream",
     "text": [
      "{'ner': 3.5033844518412765e-09}\n"
     ]
    },
    {
     "name": "stderr",
     "output_type": "stream",
     "text": [
      "\n",
      "\n",
      " 43%|████████████████████████████████████                                                | 3/7 [00:00<00:00,  7.79it/s]\u001b[A\u001b[A\n",
      "\n",
      " 71%|████████████████████████████████████████████████████████████                        | 5/7 [00:00<00:00,  8.64it/s]\u001b[A\u001b[A\n",
      "\n",
      "100%|████████████████████████████████████████████████████████████████████████████████████| 7/7 [00:00<00:00,  9.73it/s]\u001b[A\u001b[A\n",
      "\n",
      "\n",
      "  0%|                                                                                            | 0/7 [00:00<?, ?it/s]\u001b[A\u001b[A"
     ]
    },
    {
     "name": "stdout",
     "output_type": "stream",
     "text": [
      "{'ner': 9.571930303510569e-08}\n"
     ]
    },
    {
     "name": "stderr",
     "output_type": "stream",
     "text": [
      "\n",
      "\n",
      " 29%|████████████████████████                                                            | 2/7 [00:00<00:00,  9.43it/s]\u001b[A\u001b[A\n",
      "\n",
      " 43%|████████████████████████████████████                                                | 3/7 [00:00<00:00,  9.49it/s]\u001b[A\u001b[A\n",
      "\n",
      " 71%|████████████████████████████████████████████████████████████                        | 5/7 [00:00<00:00, 10.37it/s]\u001b[A\u001b[A\n",
      "\n",
      "100%|████████████████████████████████████████████████████████████████████████████████████| 7/7 [00:00<00:00, 10.46it/s]\u001b[A\u001b[A\n",
      "\n",
      "\n",
      "  0%|                                                                                            | 0/7 [00:00<?, ?it/s]\u001b[A\u001b[A\n",
      "\n",
      " 29%|████████████████████████                                                            | 2/7 [00:00<00:00, 11.59it/s]\u001b[A\u001b[A"
     ]
    },
    {
     "name": "stdout",
     "output_type": "stream",
     "text": [
      "{'ner': 7.2881788253841e-09}\n"
     ]
    },
    {
     "name": "stderr",
     "output_type": "stream",
     "text": [
      "\n",
      "\n",
      " 43%|████████████████████████████████████                                                | 3/7 [00:00<00:00, 10.22it/s]\u001b[A\u001b[A\n",
      "\n",
      " 71%|████████████████████████████████████████████████████████████                        | 5/7 [00:00<00:00, 10.14it/s]\u001b[A\u001b[A\n",
      "\n",
      " 86%|████████████████████████████████████████████████████████████████████████            | 6/7 [00:00<00:00,  9.04it/s]\u001b[A\u001b[A\n",
      "\n",
      "100%|████████████████████████████████████████████████████████████████████████████████████| 7/7 [00:00<00:00,  9.28it/s]\u001b[A\u001b[A\n",
      "\n",
      "\n",
      "  0%|                                                                                            | 0/7 [00:00<?, ?it/s]\u001b[A\u001b[A\n",
      "\n",
      " 14%|████████████                                                                        | 1/7 [00:00<00:00,  8.72it/s]\u001b[A\u001b[A"
     ]
    },
    {
     "name": "stdout",
     "output_type": "stream",
     "text": [
      "{'ner': 2.490049608794835e-10}\n"
     ]
    },
    {
     "name": "stderr",
     "output_type": "stream",
     "text": [
      "\n",
      "\n",
      " 43%|████████████████████████████████████                                                | 3/7 [00:00<00:00,  9.38it/s]\u001b[A\u001b[A\n",
      "\n",
      " 57%|████████████████████████████████████████████████                                    | 4/7 [00:00<00:00,  9.08it/s]\u001b[A\u001b[A\n",
      "\n",
      " 71%|████████████████████████████████████████████████████████████                        | 5/7 [00:00<00:00,  8.99it/s]\u001b[A\u001b[A\n",
      "\n",
      " 86%|████████████████████████████████████████████████████████████████████████            | 6/7 [00:00<00:00,  9.20it/s]\u001b[A\u001b[A\n",
      "\n",
      "100%|████████████████████████████████████████████████████████████████████████████████████| 7/7 [00:00<00:00,  8.86it/s]\u001b[A\u001b[A\n",
      "\n",
      "\n",
      "  0%|                                                                                            | 0/7 [00:00<?, ?it/s]\u001b[A\u001b[A\n",
      "\n",
      " 14%|████████████                                                                        | 1/7 [00:00<00:00,  9.51it/s]\u001b[A\u001b[A"
     ]
    },
    {
     "name": "stdout",
     "output_type": "stream",
     "text": [
      "{'ner': 9.122528215731115e-10}\n"
     ]
    },
    {
     "name": "stderr",
     "output_type": "stream",
     "text": [
      "\n",
      "\n",
      " 29%|████████████████████████                                                            | 2/7 [00:00<00:00,  9.25it/s]\u001b[A\u001b[A\n",
      "\n",
      " 43%|████████████████████████████████████                                                | 3/7 [00:00<00:00,  9.42it/s]\u001b[A\u001b[A\n",
      "\n",
      " 57%|████████████████████████████████████████████████                                    | 4/7 [00:00<00:00,  9.18it/s]\u001b[A\u001b[A\n",
      "\n",
      " 71%|████████████████████████████████████████████████████████████                        | 5/7 [00:00<00:00,  8.82it/s]\u001b[A\u001b[A\n",
      "\n",
      "100%|████████████████████████████████████████████████████████████████████████████████████| 7/7 [00:00<00:00,  8.93it/s]\u001b[A\u001b[A\n",
      "\n",
      "\n",
      "  0%|                                                                                            | 0/7 [00:00<?, ?it/s]\u001b[A\u001b[A\n",
      "\n",
      " 14%|████████████                                                                        | 1/7 [00:00<00:00,  8.10it/s]\u001b[A\u001b[A"
     ]
    },
    {
     "name": "stdout",
     "output_type": "stream",
     "text": [
      "{'ner': 8.954165378894398e-14}\n"
     ]
    },
    {
     "name": "stderr",
     "output_type": "stream",
     "text": [
      "\n",
      "\n",
      " 29%|████████████████████████                                                            | 2/7 [00:00<00:00,  8.48it/s]\u001b[A\u001b[A\n",
      "\n",
      " 43%|████████████████████████████████████                                                | 3/7 [00:00<00:00,  8.86it/s]\u001b[A\u001b[A\n",
      "\n",
      " 57%|████████████████████████████████████████████████                                    | 4/7 [00:00<00:00,  9.16it/s]\u001b[A\u001b[A\n",
      "\n",
      " 86%|████████████████████████████████████████████████████████████████████████            | 6/7 [00:00<00:00,  9.30it/s]\u001b[A\u001b[A\n",
      "\n",
      "100%|████████████████████████████████████████████████████████████████████████████████████| 7/7 [00:00<00:00,  9.12it/s]\u001b[A\u001b[A\n",
      "\n",
      "\n",
      "  0%|                                                                                            | 0/7 [00:00<?, ?it/s]\u001b[A\u001b[A\n",
      "\n",
      " 14%|████████████                                                                        | 1/7 [00:00<00:00,  8.95it/s]\u001b[A\u001b[A"
     ]
    },
    {
     "name": "stdout",
     "output_type": "stream",
     "text": [
      "{'ner': 1.3493355997949614e-07}\n"
     ]
    },
    {
     "name": "stderr",
     "output_type": "stream",
     "text": [
      "\n",
      "\n",
      " 29%|████████████████████████                                                            | 2/7 [00:00<00:00,  9.06it/s]\u001b[A\u001b[A\n",
      "\n",
      " 43%|████████████████████████████████████                                                | 3/7 [00:00<00:00,  9.21it/s]\u001b[A\u001b[A\n",
      "\n",
      " 57%|████████████████████████████████████████████████                                    | 4/7 [00:00<00:00,  8.75it/s]\u001b[A\u001b[A\n",
      "\n",
      " 71%|████████████████████████████████████████████████████████████                        | 5/7 [00:00<00:00,  7.95it/s]\u001b[A\u001b[A\n",
      "\n",
      " 86%|████████████████████████████████████████████████████████████████████████            | 6/7 [00:00<00:00,  8.24it/s]\u001b[A\u001b[A\n",
      "\n",
      "100%|████████████████████████████████████████████████████████████████████████████████████| 7/7 [00:00<00:00,  8.40it/s]\u001b[A\u001b[A\n",
      "\n",
      "\n",
      "  0%|                                                                                            | 0/7 [00:00<?, ?it/s]\u001b[A\u001b[A\n",
      "\n",
      " 14%|████████████                                                                        | 1/7 [00:00<00:00,  8.17it/s]\u001b[A\u001b[A"
     ]
    },
    {
     "name": "stdout",
     "output_type": "stream",
     "text": [
      "{'ner': 3.3814493809535565e-12}\n"
     ]
    },
    {
     "name": "stderr",
     "output_type": "stream",
     "text": [
      "\n",
      "\n",
      " 29%|████████████████████████                                                            | 2/7 [00:00<00:00,  8.15it/s]\u001b[A\u001b[A\n",
      "\n",
      " 57%|████████████████████████████████████████████████                                    | 4/7 [00:00<00:00,  8.64it/s]\u001b[A\u001b[A\n",
      "\n",
      " 86%|████████████████████████████████████████████████████████████████████████            | 6/7 [00:00<00:00,  8.77it/s]\u001b[A\u001b[A\n",
      "\n",
      "100%|████████████████████████████████████████████████████████████████████████████████████| 7/7 [00:00<00:00,  9.06it/s]\u001b[A\u001b[A\n",
      "\n",
      "\n",
      "  0%|                                                                                            | 0/7 [00:00<?, ?it/s]\u001b[A\u001b[A\n",
      "\n",
      " 14%|████████████                                                                        | 1/7 [00:00<00:00,  9.81it/s]\u001b[A\u001b[A"
     ]
    },
    {
     "name": "stdout",
     "output_type": "stream",
     "text": [
      "{'ner': 7.974509868126712e-12}\n"
     ]
    },
    {
     "name": "stderr",
     "output_type": "stream",
     "text": [
      "\n",
      "\n",
      " 43%|████████████████████████████████████                                                | 3/7 [00:00<00:00,  9.99it/s]\u001b[A\u001b[A\n",
      "\n",
      " 71%|████████████████████████████████████████████████████████████                        | 5/7 [00:00<00:00, 10.10it/s]\u001b[A\u001b[A\n",
      "\n",
      " 86%|████████████████████████████████████████████████████████████████████████            | 6/7 [00:00<00:00,  9.18it/s]\u001b[A\u001b[A\n",
      "\n",
      "100%|████████████████████████████████████████████████████████████████████████████████████| 7/7 [00:00<00:00,  9.19it/s]\u001b[A\u001b[A\n",
      "\n",
      "\n",
      "  0%|                                                                                            | 0/7 [00:00<?, ?it/s]\u001b[A\u001b[A\n",
      "\n",
      " 14%|████████████                                                                        | 1/7 [00:00<00:00,  8.64it/s]\u001b[A\u001b[A"
     ]
    },
    {
     "name": "stdout",
     "output_type": "stream",
     "text": [
      "{'ner': 1.9267023476244815e-09}\n"
     ]
    },
    {
     "name": "stderr",
     "output_type": "stream",
     "text": [
      "\n",
      "\n",
      " 29%|████████████████████████                                                            | 2/7 [00:00<00:00,  8.53it/s]\u001b[A\u001b[A\n",
      "\n",
      " 43%|████████████████████████████████████                                                | 3/7 [00:00<00:00,  8.54it/s]\u001b[A\u001b[A\n",
      "\n",
      " 57%|████████████████████████████████████████████████                                    | 4/7 [00:00<00:00,  8.75it/s]\u001b[A\u001b[A\n",
      "\n",
      " 71%|████████████████████████████████████████████████████████████                        | 5/7 [00:00<00:00,  8.13it/s]\u001b[A\u001b[A\n",
      "\n",
      " 86%|████████████████████████████████████████████████████████████████████████            | 6/7 [00:00<00:00,  8.40it/s]\u001b[A\u001b[A\n",
      "\n",
      "100%|████████████████████████████████████████████████████████████████████████████████████| 7/7 [00:00<00:00,  8.30it/s]\u001b[A\u001b[A\n",
      "\n",
      "\n",
      "  0%|                                                                                            | 0/7 [00:00<?, ?it/s]\u001b[A\u001b[A\n",
      "\n",
      " 14%|████████████                                                                        | 1/7 [00:00<00:00,  6.92it/s]\u001b[A\u001b[A"
     ]
    },
    {
     "name": "stdout",
     "output_type": "stream",
     "text": [
      "{'ner': 1.5864261775267425e-12}\n"
     ]
    },
    {
     "name": "stderr",
     "output_type": "stream",
     "text": [
      "\n",
      "\n",
      " 43%|████████████████████████████████████                                                | 3/7 [00:00<00:00,  7.87it/s]\u001b[A\u001b[A\n",
      "\n",
      " 57%|████████████████████████████████████████████████                                    | 4/7 [00:00<00:00,  8.05it/s]\u001b[A\u001b[A\n",
      "\n",
      " 86%|████████████████████████████████████████████████████████████████████████            | 6/7 [00:00<00:00,  8.60it/s]\u001b[A\u001b[A\n",
      "\n",
      "100%|████████████████████████████████████████████████████████████████████████████████████| 7/7 [00:00<00:00,  9.35it/s]\u001b[A\u001b[A\n",
      "\n",
      "\n",
      "  0%|                                                                                            | 0/7 [00:00<?, ?it/s]\u001b[A\u001b[A\n",
      "\n",
      " 14%|████████████                                                                        | 1/7 [00:00<00:00,  9.50it/s]\u001b[A\u001b[A"
     ]
    },
    {
     "name": "stdout",
     "output_type": "stream",
     "text": [
      "{'ner': 2.6335632008231917e-13}\n"
     ]
    },
    {
     "name": "stderr",
     "output_type": "stream",
     "text": [
      "\n",
      "\n",
      " 43%|████████████████████████████████████                                                | 3/7 [00:00<00:00,  9.74it/s]\u001b[A\u001b[A\n",
      "\n",
      " 57%|████████████████████████████████████████████████                                    | 4/7 [00:00<00:00,  9.79it/s]\u001b[A\u001b[A\n",
      "\n",
      " 71%|████████████████████████████████████████████████████████████                        | 5/7 [00:00<00:00,  8.86it/s]\u001b[A\u001b[A\n",
      "\n",
      " 86%|████████████████████████████████████████████████████████████████████████            | 6/7 [00:00<00:00,  8.70it/s]\u001b[A\u001b[A\n",
      "\n",
      "100%|████████████████████████████████████████████████████████████████████████████████████| 7/7 [00:00<00:00,  8.81it/s]\u001b[A\u001b[A\n",
      "\n",
      "\n",
      "  0%|                                                                                            | 0/7 [00:00<?, ?it/s]\u001b[A\u001b[A"
     ]
    },
    {
     "name": "stdout",
     "output_type": "stream",
     "text": [
      "{'ner': 6.418275544492631e-10}\n"
     ]
    },
    {
     "name": "stderr",
     "output_type": "stream",
     "text": [
      "\n",
      "\n",
      " 29%|████████████████████████                                                            | 2/7 [00:00<00:00,  9.25it/s]\u001b[A\u001b[A\n",
      "\n",
      " 57%|████████████████████████████████████████████████                                    | 4/7 [00:00<00:00,  9.21it/s]\u001b[A\u001b[A\n",
      "\n",
      " 71%|████████████████████████████████████████████████████████████                        | 5/7 [00:00<00:00,  8.86it/s]\u001b[A\u001b[A"
     ]
    }
   ],
   "source": [
    "#Adding the label to our ner\n",
    "for i in range(0,len(train)):\n",
    "    ner.add_label('PRODUCT')\n",
    "\n",
    "# get names of other pipes to disable them during training\n",
    "other_pipes = [pipe for pipe in nlp.pipe_names if pipe != 'ner']\n",
    "with nlp.disable_pipes(*other_pipes):  # only train NER\n",
    "    optimizer = nlp.begin_training()\n",
    "    for itn in range(n_iter):\n",
    "        random.shuffle(train)\n",
    "        losses = {}\n",
    "        for text, annotations in tqdm(train):\n",
    "            nlp.update(\n",
    "                [text],  # batch of texts\n",
    "                [annotations],  # batch of annotations\n",
    "                drop=0.5,  # dropout - make it harder to memorise data\n",
    "                sgd=optimizer,  # callable to update weights\n",
    "                losses=losses)\n",
    "        print(losses)"
   ]
  },
  {
   "cell_type": "code",
   "execution_count": null,
   "metadata": {},
   "outputs": [],
   "source": []
  }
 ],
 "metadata": {
  "kernelspec": {
   "display_name": "Python 3",
   "language": "python",
   "name": "python3"
  },
  "language_info": {
   "codemirror_mode": {
    "name": "ipython",
    "version": 3
   },
   "file_extension": ".py",
   "mimetype": "text/x-python",
   "name": "python",
   "nbconvert_exporter": "python",
   "pygments_lexer": "ipython3",
   "version": "3.7.5"
  }
 },
 "nbformat": 4,
 "nbformat_minor": 2
}
