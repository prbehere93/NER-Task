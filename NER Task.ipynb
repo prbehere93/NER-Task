{
 "cells": [
  {
   "cell_type": "code",
   "execution_count": 159,
   "metadata": {},
   "outputs": [],
   "source": [
    "import pandas as pd\n",
    "import numpy as np"
   ]
  },
  {
   "cell_type": "code",
   "execution_count": 160,
   "metadata": {},
   "outputs": [],
   "source": [
    "text=pd.read_csv(\"coupons_ner.csv\",header=None)"
   ]
  },
  {
   "cell_type": "code",
   "execution_count": 161,
   "metadata": {},
   "outputs": [
    {
     "data": {
      "text/html": [
       "<div>\n",
       "<style scoped>\n",
       "    .dataframe tbody tr th:only-of-type {\n",
       "        vertical-align: middle;\n",
       "    }\n",
       "\n",
       "    .dataframe tbody tr th {\n",
       "        vertical-align: top;\n",
       "    }\n",
       "\n",
       "    .dataframe thead th {\n",
       "        text-align: right;\n",
       "    }\n",
       "</style>\n",
       "<table border=\"1\" class=\"dataframe\">\n",
       "  <thead>\n",
       "    <tr style=\"text-align: right;\">\n",
       "      <th></th>\n",
       "      <th>0</th>\n",
       "    </tr>\n",
       "  </thead>\n",
       "  <tbody>\n",
       "    <tr>\n",
       "      <th>0</th>\n",
       "      <td>Save $2.00 ONE Downy Liquid Fabric Conditioner...</td>\n",
       "    </tr>\n",
       "    <tr>\n",
       "      <th>1</th>\n",
       "      <td>Save $2.00 ONE Tide PODS OR Tide Power PODS (e...</td>\n",
       "    </tr>\n",
       "    <tr>\n",
       "      <th>2</th>\n",
       "      <td>Save $2.00 ONE Tide Laundry Detergent (exclude...</td>\n",
       "    </tr>\n",
       "    <tr>\n",
       "      <th>3</th>\n",
       "      <td>SAVE $1.00 ON TWO when you buy TWO BOXES (8.9 ...</td>\n",
       "    </tr>\n",
       "    <tr>\n",
       "      <th>4</th>\n",
       "      <td>$3.00 OFF when you purchase any THREE (3) Pepp...</td>\n",
       "    </tr>\n",
       "    <tr>\n",
       "      <th>...</th>\n",
       "      <td>...</td>\n",
       "    </tr>\n",
       "    <tr>\n",
       "      <th>881</th>\n",
       "      <td>SAVE $2.00 when you buy $7 worth of participat...</td>\n",
       "    </tr>\n",
       "    <tr>\n",
       "      <th>882</th>\n",
       "      <td>SAVE $5.00 on any Gain scented purchase of $30...</td>\n",
       "    </tr>\n",
       "    <tr>\n",
       "      <th>883</th>\n",
       "      <td>SAVE $1.00 when you buy any ONE (1) NEW AXE pr...</td>\n",
       "    </tr>\n",
       "    <tr>\n",
       "      <th>884</th>\n",
       "      <td>BUY TWO GET ONE Buy ONE (1) CHIPS AHOY! Cookie...</td>\n",
       "    </tr>\n",
       "    <tr>\n",
       "      <th>885</th>\n",
       "      <td>SAVE $2.00 when you spend $6 on all Suave® pro...</td>\n",
       "    </tr>\n",
       "  </tbody>\n",
       "</table>\n",
       "<p>886 rows × 1 columns</p>\n",
       "</div>"
      ],
      "text/plain": [
       "                                                     0\n",
       "0    Save $2.00 ONE Downy Liquid Fabric Conditioner...\n",
       "1    Save $2.00 ONE Tide PODS OR Tide Power PODS (e...\n",
       "2    Save $2.00 ONE Tide Laundry Detergent (exclude...\n",
       "3    SAVE $1.00 ON TWO when you buy TWO BOXES (8.9 ...\n",
       "4    $3.00 OFF when you purchase any THREE (3) Pepp...\n",
       "..                                                 ...\n",
       "881  SAVE $2.00 when you buy $7 worth of participat...\n",
       "882  SAVE $5.00 on any Gain scented purchase of $30...\n",
       "883  SAVE $1.00 when you buy any ONE (1) NEW AXE pr...\n",
       "884  BUY TWO GET ONE Buy ONE (1) CHIPS AHOY! Cookie...\n",
       "885  SAVE $2.00 when you spend $6 on all Suave® pro...\n",
       "\n",
       "[886 rows x 1 columns]"
      ]
     },
     "execution_count": 161,
     "metadata": {},
     "output_type": "execute_result"
    }
   ],
   "source": [
    "text"
   ]
  },
  {
   "cell_type": "markdown",
   "metadata": {},
   "source": [
    "### Exercise 1 - Returning the FaceValue as Output"
   ]
  },
  {
   "cell_type": "code",
   "execution_count": 162,
   "metadata": {},
   "outputs": [],
   "source": [
    "import re"
   ]
  },
  {
   "cell_type": "code",
   "execution_count": 163,
   "metadata": {},
   "outputs": [
    {
     "data": {
      "text/plain": [
       "'Save $2.00 ONE Downy Liquid Fabric Conditioner 72 ld or larger (includes Downy Odor Protect 48 oz or larger OR Downy Wrinkle Guard 40 oz or larger OR Downy Nature Blends 67 oz or larger) OR Bounce/Downy Sheets 130 ct or larger (includes Bounce/Downy Wrinkle Guard 80 ct or larger) OR In Wash Scent Boosters 8.6 oz or larger (includes Downy Unstopables, Fresh Protect, Odor Protect, and Infusions) (excludes Downy Libre Enjuague, Gain Fireworks, and trial/travel size).'"
      ]
     },
     "execution_count": 163,
     "metadata": {},
     "output_type": "execute_result"
    }
   ],
   "source": [
    "text[0][0]"
   ]
  },
  {
   "cell_type": "markdown",
   "metadata": {},
   "source": [
    "Using Regex to separate the currency/facevalue\n",
    "\n",
    "Logic - \n",
    "Starts with a '$', 1 or more digits, a decimal point(\\.), 0 or more digits.\n",
    "\n",
    "or\n",
    "Digits followed by cents\n",
    "\n",
    "or\n",
    "Single digit after $\n",
    "\n",
    "or\n",
    "Decimal after $ followed by 1 or more digits"
   ]
  },
  {
   "cell_type": "code",
   "execution_count": 170,
   "metadata": {},
   "outputs": [],
   "source": [
    "def find_FV(text):\n",
    "    if type(text)==str:\n",
    "        return(re.findall('\\$[0-9]+\\.[0-9]*|[0-9]+¢|\\$[0-9]+|\\$\\.[0-9]+',text))\n",
    "    else:\n",
    "        return([re.findall('\\$[0-9]+\\.[0-9]*|[0-9]+¢|\\$[0-9]+|\\$\\.[0-9]+',text[0][i]) for i in range(0,len(text))])"
   ]
  },
  {
   "cell_type": "code",
   "execution_count": 166,
   "metadata": {},
   "outputs": [
    {
     "data": {
      "text/plain": [
       "['$2.00']"
      ]
     },
     "execution_count": 166,
     "metadata": {},
     "output_type": "execute_result"
    }
   ],
   "source": [
    "FaceValue=find_FV('Save $2.00 ONE Downy Liquid Fabric Conditioner 72 ld or larger (includes Downy Odor Protect 48 oz or larger OR Downy Wrinkle Guard 40 oz or larger OR Downy Nature Blends 67 oz or larger) OR Bounce/Downy Sheets 130 ct or larger (includes Bounce/Downy Wrinkle Guard 80 ct or larger) OR In Wash Scent Boosters 8.6 oz or larger (includes Downy Unstopables, Fresh Protect, Odor Protect, and Infusions) (excludes Downy Libre Enjuague, Gain Fireworks, and trial/travel size).')\n",
    "FaceValue"
   ]
  },
  {
   "cell_type": "code",
   "execution_count": 181,
   "metadata": {},
   "outputs": [
    {
     "data": {
      "text/plain": [
       "['$0.50']"
      ]
     },
     "execution_count": 181,
     "metadata": {},
     "output_type": "execute_result"
    }
   ],
   "source": [
    "find_FV(\"where are my $0.50\")"
   ]
  },
  {
   "cell_type": "code",
   "execution_count": 182,
   "metadata": {},
   "outputs": [
    {
     "data": {
      "text/plain": [
       "['$.56']"
      ]
     },
     "execution_count": 182,
     "metadata": {},
     "output_type": "execute_result"
    }
   ],
   "source": [
    "find_FV(\"please lend me $.56\")"
   ]
  },
  {
   "cell_type": "code",
   "execution_count": 176,
   "metadata": {},
   "outputs": [],
   "source": [
    "#Extracting the FaceValue from all the entries\n",
    "FV_all=find_FV(text)"
   ]
  },
  {
   "cell_type": "code",
   "execution_count": 178,
   "metadata": {},
   "outputs": [],
   "source": [
    "#To check how many entries did not return a FaceValue and their corresponding index\n",
    "s=0\n",
    "c=[]\n",
    "for i in range(0,len(FV_all)):\n",
    "    if FV_all[i]==[]:\n",
    "        c.append(i)\n",
    "        s=s+1"
   ]
  },
  {
   "cell_type": "code",
   "execution_count": 179,
   "metadata": {},
   "outputs": [
    {
     "data": {
      "text/plain": [
       "273"
      ]
     },
     "execution_count": 179,
     "metadata": {},
     "output_type": "execute_result"
    }
   ],
   "source": [
    "s"
   ]
  },
  {
   "cell_type": "markdown",
   "metadata": {},
   "source": [
    "There are 273 null empty lists in FaceValue.\n",
    "These are entries which do not contain any FaceValue text"
   ]
  },
  {
   "cell_type": "markdown",
   "metadata": {},
   "source": [
    "# TASK 2 - Find the product names using NER"
   ]
  },
  {
   "cell_type": "markdown",
   "metadata": {},
   "source": [
    "# NER"
   ]
  },
  {
   "cell_type": "code",
   "execution_count": 183,
   "metadata": {},
   "outputs": [],
   "source": [
    "#!pip install spacy"
   ]
  },
  {
   "cell_type": "code",
   "execution_count": 184,
   "metadata": {},
   "outputs": [],
   "source": [
    "#!pip install https://github.com/explosion/spacy-models/releases/download/en_core_web_sm-2.2.0/en_core_web_sm-2.2.0.tar.gz\n"
   ]
  },
  {
   "cell_type": "code",
   "execution_count": 187,
   "metadata": {},
   "outputs": [],
   "source": [
    "import spacy\n",
    "import tqdm as tqdm\n",
    "nlp=spacy.load('en')"
   ]
  },
  {
   "cell_type": "code",
   "execution_count": 190,
   "metadata": {},
   "outputs": [
    {
     "name": "stdout",
     "output_type": "stream",
     "text": [
      "Apple 17 22 ORG\n"
     ]
    }
   ],
   "source": [
    "d1=nlp(\"What is his Name Apple\")\n",
    "for t in d1.ents:\n",
    "    print(t.text, t.start_char, t.end_char, t.label_)"
   ]
  },
  {
   "cell_type": "code",
   "execution_count": 191,
   "metadata": {},
   "outputs": [
    {
     "data": {
      "text/plain": [
       "31"
      ]
     },
     "execution_count": 191,
     "metadata": {},
     "output_type": "execute_result"
    }
   ],
   "source": [
    "len(\"Downy Liquid Fabric Conditioner\")"
   ]
  },
  {
   "cell_type": "code",
   "execution_count": 192,
   "metadata": {},
   "outputs": [],
   "source": [
    "# Building a corpus for training the model - \n",
    "train=[\n",
    "    ('ONE Downy Liquid Fabric Conditioner'), {'entities':[4,34, 'PRODUCT']},\n",
    "    ('72 ld or larger (includes Downy Odor Protect 48 oz or larger OR Downy Wrinkle Guard 40 oz'), {'entities':[(26,43, 'PRODUCT'),(64,82, 'PRODUCT')]},\n",
    "    ('Downy Unstopables'), {'entities':[0,16, 'PRODUCT']},\n",
    "    ('Downy Nature Blends'), {'entities':[0,18, 'PRODUCT']},\n",
    "    ('Bounce/Downy Sheets'), {'entities':[0,18, 'PRODUCT']},\n",
    "    ('Bounce/Downy Wrinkle Guard includes '), {'entities':[0,25, 'PRODUCT']},\n",
    "    ('Included/excludes/whatever Downy Libre Enjuague'), {'entities':[27,46, 'PRODUCT']},\n",
    "]"
   ]
  },
  {
   "cell_type": "code",
   "execution_count": null,
   "metadata": {},
   "outputs": [],
   "source": []
  }
 ],
 "metadata": {
  "kernelspec": {
   "display_name": "Python 3",
   "language": "python",
   "name": "python3"
  },
  "language_info": {
   "codemirror_mode": {
    "name": "ipython",
    "version": 3
   },
   "file_extension": ".py",
   "mimetype": "text/x-python",
   "name": "python",
   "nbconvert_exporter": "python",
   "pygments_lexer": "ipython3",
   "version": "3.7.5"
  }
 },
 "nbformat": 4,
 "nbformat_minor": 2
}
