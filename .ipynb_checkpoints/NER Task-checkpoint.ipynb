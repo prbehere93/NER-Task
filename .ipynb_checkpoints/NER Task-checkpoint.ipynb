{
 "cells": [
  {
   "cell_type": "code",
   "execution_count": 351,
   "metadata": {},
   "outputs": [],
   "source": [
    "import pandas as pd\n",
    "import numpy as np"
   ]
  },
  {
   "cell_type": "code",
   "execution_count": 352,
   "metadata": {},
   "outputs": [],
   "source": [
    "text=pd.read_csv(\"coupons_ner.csv\",header=None)"
   ]
  },
  {
   "cell_type": "code",
   "execution_count": 353,
   "metadata": {},
   "outputs": [
    {
     "data": {
      "text/html": [
       "<div>\n",
       "<style scoped>\n",
       "    .dataframe tbody tr th:only-of-type {\n",
       "        vertical-align: middle;\n",
       "    }\n",
       "\n",
       "    .dataframe tbody tr th {\n",
       "        vertical-align: top;\n",
       "    }\n",
       "\n",
       "    .dataframe thead th {\n",
       "        text-align: right;\n",
       "    }\n",
       "</style>\n",
       "<table border=\"1\" class=\"dataframe\">\n",
       "  <thead>\n",
       "    <tr style=\"text-align: right;\">\n",
       "      <th></th>\n",
       "      <th>0</th>\n",
       "    </tr>\n",
       "  </thead>\n",
       "  <tbody>\n",
       "    <tr>\n",
       "      <th>0</th>\n",
       "      <td>Save $2.00 ONE Downy Liquid Fabric Conditioner...</td>\n",
       "    </tr>\n",
       "    <tr>\n",
       "      <th>1</th>\n",
       "      <td>Save $2.00 ONE Tide PODS OR Tide Power PODS (e...</td>\n",
       "    </tr>\n",
       "    <tr>\n",
       "      <th>2</th>\n",
       "      <td>Save $2.00 ONE Tide Laundry Detergent (exclude...</td>\n",
       "    </tr>\n",
       "    <tr>\n",
       "      <th>3</th>\n",
       "      <td>SAVE $1.00 ON TWO when you buy TWO BOXES (8.9 ...</td>\n",
       "    </tr>\n",
       "    <tr>\n",
       "      <th>4</th>\n",
       "      <td>$3.00 OFF when you purchase any THREE (3) Pepp...</td>\n",
       "    </tr>\n",
       "    <tr>\n",
       "      <th>...</th>\n",
       "      <td>...</td>\n",
       "    </tr>\n",
       "    <tr>\n",
       "      <th>881</th>\n",
       "      <td>SAVE $2.00 when you buy $7 worth of participat...</td>\n",
       "    </tr>\n",
       "    <tr>\n",
       "      <th>882</th>\n",
       "      <td>SAVE $5.00 on any Gain scented purchase of $30...</td>\n",
       "    </tr>\n",
       "    <tr>\n",
       "      <th>883</th>\n",
       "      <td>SAVE $1.00 when you buy any ONE (1) NEW AXE pr...</td>\n",
       "    </tr>\n",
       "    <tr>\n",
       "      <th>884</th>\n",
       "      <td>BUY TWO GET ONE Buy ONE (1) CHIPS AHOY! Cookie...</td>\n",
       "    </tr>\n",
       "    <tr>\n",
       "      <th>885</th>\n",
       "      <td>SAVE $2.00 when you spend $6 on all Suave® pro...</td>\n",
       "    </tr>\n",
       "  </tbody>\n",
       "</table>\n",
       "<p>886 rows × 1 columns</p>\n",
       "</div>"
      ],
      "text/plain": [
       "                                                     0\n",
       "0    Save $2.00 ONE Downy Liquid Fabric Conditioner...\n",
       "1    Save $2.00 ONE Tide PODS OR Tide Power PODS (e...\n",
       "2    Save $2.00 ONE Tide Laundry Detergent (exclude...\n",
       "3    SAVE $1.00 ON TWO when you buy TWO BOXES (8.9 ...\n",
       "4    $3.00 OFF when you purchase any THREE (3) Pepp...\n",
       "..                                                 ...\n",
       "881  SAVE $2.00 when you buy $7 worth of participat...\n",
       "882  SAVE $5.00 on any Gain scented purchase of $30...\n",
       "883  SAVE $1.00 when you buy any ONE (1) NEW AXE pr...\n",
       "884  BUY TWO GET ONE Buy ONE (1) CHIPS AHOY! Cookie...\n",
       "885  SAVE $2.00 when you spend $6 on all Suave® pro...\n",
       "\n",
       "[886 rows x 1 columns]"
      ]
     },
     "execution_count": 353,
     "metadata": {},
     "output_type": "execute_result"
    }
   ],
   "source": [
    "text"
   ]
  },
  {
   "cell_type": "markdown",
   "metadata": {},
   "source": [
    "### Exercise 1 - Returning the FaceValue as Output"
   ]
  },
  {
   "cell_type": "code",
   "execution_count": 354,
   "metadata": {},
   "outputs": [],
   "source": [
    "import re"
   ]
  },
  {
   "cell_type": "code",
   "execution_count": 355,
   "metadata": {},
   "outputs": [
    {
     "data": {
      "text/plain": [
       "'Save $2.00 ONE Downy Liquid Fabric Conditioner 72 ld or larger (includes Downy Odor Protect 48 oz or larger OR Downy Wrinkle Guard 40 oz or larger OR Downy Nature Blends 67 oz or larger) OR Bounce/Downy Sheets 130 ct or larger (includes Bounce/Downy Wrinkle Guard 80 ct or larger) OR In Wash Scent Boosters 8.6 oz or larger (includes Downy Unstopables, Fresh Protect, Odor Protect, and Infusions) (excludes Downy Libre Enjuague, Gain Fireworks, and trial/travel size).'"
      ]
     },
     "execution_count": 355,
     "metadata": {},
     "output_type": "execute_result"
    }
   ],
   "source": [
    "text[0][0]"
   ]
  },
  {
   "cell_type": "markdown",
   "metadata": {},
   "source": [
    "Using Regex to separate the currency/facevalue\n",
    "\n",
    "Logic - \n",
    "Starts with a '$', 1 or more digits, a decimal point(\\.), 0 or more digits.\n",
    "\n",
    "or\n",
    "Digits followed by cents\n",
    "\n",
    "or\n",
    "Single digit after $\n",
    "\n",
    "or\n",
    "Decimal after $ followed by 1 or more digits"
   ]
  },
  {
   "cell_type": "code",
   "execution_count": 356,
   "metadata": {},
   "outputs": [],
   "source": [
    "def find_FV(text):\n",
    "    if type(text)==str:\n",
    "        return(re.findall('\\$[0-9]+\\.[0-9]*|[0-9]+¢|\\$[0-9]+|\\$\\.[0-9]+',text))\n",
    "    else:\n",
    "        return([re.findall('\\$[0-9]+\\.[0-9]*|[0-9]+¢|\\$[0-9]+|\\$\\.[0-9]+',text[0][i]) for i in range(0,len(text))])"
   ]
  },
  {
   "cell_type": "code",
   "execution_count": 357,
   "metadata": {},
   "outputs": [
    {
     "data": {
      "text/plain": [
       "['$2.00']"
      ]
     },
     "execution_count": 357,
     "metadata": {},
     "output_type": "execute_result"
    }
   ],
   "source": [
    "FaceValue=find_FV('Save $2.00 ONE Downy Liquid Fabric Conditioner 72 ld or larger (includes Downy Odor Protect 48 oz or larger OR Downy Wrinkle Guard 40 oz or larger OR Downy Nature Blends 67 oz or larger) OR Bounce/Downy Sheets 130 ct or larger (includes Bounce/Downy Wrinkle Guard 80 ct or larger) OR In Wash Scent Boosters 8.6 oz or larger (includes Downy Unstopables, Fresh Protect, Odor Protect, and Infusions) (excludes Downy Libre Enjuague, Gain Fireworks, and trial/travel size).')\n",
    "FaceValue"
   ]
  },
  {
   "cell_type": "code",
   "execution_count": 358,
   "metadata": {},
   "outputs": [
    {
     "data": {
      "text/plain": [
       "['$0.50']"
      ]
     },
     "execution_count": 358,
     "metadata": {},
     "output_type": "execute_result"
    }
   ],
   "source": [
    "find_FV(\"where are my $0.50\")"
   ]
  },
  {
   "cell_type": "code",
   "execution_count": 359,
   "metadata": {},
   "outputs": [
    {
     "data": {
      "text/plain": [
       "['$.56']"
      ]
     },
     "execution_count": 359,
     "metadata": {},
     "output_type": "execute_result"
    }
   ],
   "source": [
    "find_FV(\"please lend me $.56\")"
   ]
  },
  {
   "cell_type": "code",
   "execution_count": 360,
   "metadata": {},
   "outputs": [],
   "source": [
    "#Extracting the FaceValue from all the entries\n",
    "FV_all=find_FV(text)"
   ]
  },
  {
   "cell_type": "code",
   "execution_count": 361,
   "metadata": {},
   "outputs": [],
   "source": [
    "#To check how many entries did not return a FaceValue and their corresponding index\n",
    "s=0\n",
    "c=[]\n",
    "for i in range(0,len(FV_all)):\n",
    "    if FV_all[i]==[]:\n",
    "        c.append(i)\n",
    "        s=s+1"
   ]
  },
  {
   "cell_type": "code",
   "execution_count": 362,
   "metadata": {},
   "outputs": [
    {
     "data": {
      "text/plain": [
       "273"
      ]
     },
     "execution_count": 362,
     "metadata": {},
     "output_type": "execute_result"
    }
   ],
   "source": [
    "s"
   ]
  },
  {
   "cell_type": "markdown",
   "metadata": {},
   "source": [
    "There are 273 null empty lists in FaceValue.\n",
    "These are entries which do not contain any FaceValue text"
   ]
  },
  {
   "cell_type": "markdown",
   "metadata": {},
   "source": [
    "# TASK 2 - Find the product names using NER"
   ]
  },
  {
   "cell_type": "markdown",
   "metadata": {},
   "source": [
    "# NER"
   ]
  },
  {
   "cell_type": "code",
   "execution_count": 363,
   "metadata": {},
   "outputs": [],
   "source": [
    "#!pip install spacy"
   ]
  },
  {
   "cell_type": "code",
   "execution_count": 364,
   "metadata": {},
   "outputs": [],
   "source": [
    "#!pip install https://github.com/explosion/spacy-models/releases/download/en_core_web_sm-2.2.0/en_core_web_sm-2.2.0.tar.gz\n"
   ]
  },
  {
   "cell_type": "code",
   "execution_count": 365,
   "metadata": {},
   "outputs": [],
   "source": [
    "import spacy\n",
    "from tqdm import tqdm\n",
    "nlp=spacy.load('en')"
   ]
  },
  {
   "cell_type": "code",
   "execution_count": 366,
   "metadata": {},
   "outputs": [
    {
     "name": "stdout",
     "output_type": "stream",
     "text": [
      "Apple 17 22 ORG\n"
     ]
    }
   ],
   "source": [
    "d1=nlp(\"What is his Name Apple\")\n",
    "for t in d1.ents:\n",
    "    print(t.text, t.start_char, t.end_char, t.label_)"
   ]
  },
  {
   "cell_type": "code",
   "execution_count": 367,
   "metadata": {},
   "outputs": [
    {
     "name": "stdout",
     "output_type": "stream",
     "text": [
      "Downy Liquid Fabric Conditioner 0 31 ORG\n",
      "72 32 34 DATE\n",
      "Downy Odor Protect 58 76 LOC\n",
      "48 77 79 DATE\n",
      "Downy Wrinkle Guard 40 96 118 WORK_OF_ART\n",
      "Downy Nature Blends 135 154 WORK_OF_ART\n",
      "67 155 157 DATE\n",
      "Bounce/Downy Wrinkle Guard 80 222 251 EVENT\n",
      "Downy Unstopables 319 336 ORG\n"
     ]
    }
   ],
   "source": [
    "#CHecking to see how the base spacy 'en' model does on the given text\n",
    "d2= nlp('Downy Liquid Fabric Conditioner 72 ld or larger (includes Downy Odor Protect 48 oz or larger OR Downy Wrinkle Guard 40 oz or larger OR Downy Nature Blends 67 oz or larger) OR Bounce/Downy Sheets 130 ct or larger (includes Bounce/Downy Wrinkle Guard 80 ct or larger) OR In Wash Scent Boosters 8.6 oz or larger (includes Downy Unstopables, ')\n",
    "for t in d2.ents:\n",
    "    print(t.text, t.start_char, t.end_char, t.label_)"
   ]
  },
  {
   "cell_type": "markdown",
   "metadata": {},
   "source": [
    "The base model does not perform well.\n",
    "\n",
    "We can build a training corpus for custom NER using spacy."
   ]
  },
  {
   "cell_type": "code",
   "execution_count": 386,
   "metadata": {},
   "outputs": [],
   "source": [
    "# Building a corpus for training the model - \n",
    "train=[\n",
    "    ('ONE Downy Liquid Fabric Conditioner', {'entities':[(4,34, 'PRODUCT')]}),\n",
    "    ('72 ld or larger (includes Downy Odor Protect 48 oz or larger OR Downy Wrinkle Guard 40 oz', {'entities':[(26,43, 'PRODUCT'),(64,82, 'PRODUCT')]}),\n",
    "    ('Downy Unstopables os not the best ything to buy', {'entities':[(0,16, 'PRODUCT')]}),\n",
    "    ('Downy Nature Blends ppp p p you', {'entities':[(0,18, 'PRODUCT')]}),\n",
    "    ('Bounce/Downy Sheets', {'entities':[(0,18, 'PRODUCT')]}),\n",
    "    ('Bounce/Downy Wrinkle Guard includes, something else ', {'entities':[(0,25, 'PRODUCT')]}),\n",
    "    ('Included/excludes/whatever Downy Libre Enjuague', {'entities':[(27,46, 'PRODUCT')]})\n",
    "]"
   ]
  },
  {
   "cell_type": "code",
   "execution_count": 387,
   "metadata": {},
   "outputs": [],
   "source": [
    "from __future__ import unicode_literals, print_function\n",
    "import plac\n",
    "import random\n",
    "from pathlib import Path"
   ]
  },
  {
   "cell_type": "code",
   "execution_count": 394,
   "metadata": {},
   "outputs": [],
   "source": [
    "model=None\n",
    "output_dir=Path(\"C:\\\\Users\\\\asus\\\\Desktop\\\\0.Coding Assignment\\\\NER-Task\")\n",
    "n_iter=100"
   ]
  },
  {
   "cell_type": "code",
   "execution_count": 395,
   "metadata": {},
   "outputs": [
    {
     "name": "stdout",
     "output_type": "stream",
     "text": [
      "Created blank 'en' model\n"
     ]
    }
   ],
   "source": [
    "#Loading the model (if the model is not present it creates a 'blank' model)\n",
    "if model is not None:\n",
    "    nlp = spacy.load(model)  # load existing spaCy model\n",
    "    print(\"Loaded model '%s'\" % model)\n",
    "else:\n",
    "    nlp = spacy.blank('en')  # create blank Language class\n",
    "    print(\"Created blank 'en' model\")"
   ]
  },
  {
   "cell_type": "code",
   "execution_count": 396,
   "metadata": {},
   "outputs": [],
   "source": [
    "# create the built-in pipeline components and add them to the pipeline\n",
    "    # nlp.create_pipe works for built-ins that are registered with spaCy\n",
    "if 'ner' not in nlp.pipe_names:\n",
    "    ner = nlp.create_pipe('ner')\n",
    "    nlp.add_pipe(ner, last=True)\n",
    "# otherwise, get it so we can add labels\n",
    "else:\n",
    "    ner = nlp.get_pipe('ner')"
   ]
  },
  {
   "cell_type": "markdown",
   "metadata": {},
   "source": [
    "Training the NER"
   ]
  },
  {
   "cell_type": "code",
   "execution_count": 397,
   "metadata": {},
   "outputs": [],
   "source": [
    "#Adding the labels to our ner\n",
    "for _, annotations in train:\n",
    "    for ent in annotations.get('entities'):\n",
    "        ner.add_label(ent[2])"
   ]
  },
  {
   "cell_type": "code",
   "execution_count": 398,
   "metadata": {},
   "outputs": [
    {
     "name": "stderr",
     "output_type": "stream",
     "text": [
      "\n",
      "\n",
      "  0%|                                                                                            | 0/7 [00:00<?, ?it/s]\u001b[A\u001b[A\n",
      "\n",
      " 29%|████████████████████████                                                            | 2/7 [00:00<00:00, 13.54it/s]\u001b[A\u001b[A\n",
      "\n",
      " 57%|████████████████████████████████████████████████                                    | 4/7 [00:00<00:00, 14.14it/s]\u001b[A\u001b[A\n",
      "\n",
      " 71%|████████████████████████████████████████████████████████████                        | 5/7 [00:00<00:00, 12.50it/s]\u001b[A\u001b[A\n",
      "\n",
      "100%|████████████████████████████████████████████████████████████████████████████████████| 7/7 [00:00<00:00, 13.24it/s]\u001b[A\u001b[A\n",
      "\n",
      "\n",
      "  0%|                                                                                            | 0/7 [00:00<?, ?it/s]\u001b[A\u001b[A\n",
      "\n",
      " 29%|████████████████████████                                                            | 2/7 [00:00<00:00, 16.79it/s]\u001b[A\u001b[A"
     ]
    },
    {
     "name": "stdout",
     "output_type": "stream",
     "text": [
      "{'ner': 28.560723088681698}\n"
     ]
    },
    {
     "name": "stderr",
     "output_type": "stream",
     "text": [
      "\n",
      "\n",
      " 57%|████████████████████████████████████████████████                                    | 4/7 [00:00<00:00, 14.68it/s]\u001b[A\u001b[A\n",
      "\n",
      "100%|████████████████████████████████████████████████████████████████████████████████████| 7/7 [00:00<00:00, 12.76it/s]\u001b[A\u001b[A\n",
      "\n",
      "\n",
      "  0%|                                                                                            | 0/7 [00:00<?, ?it/s]\u001b[A\u001b[A\n",
      "\n",
      " 29%|████████████████████████                                                            | 2/7 [00:00<00:00, 14.71it/s]\u001b[A\u001b[A"
     ]
    },
    {
     "name": "stdout",
     "output_type": "stream",
     "text": [
      "{'ner': 16.14863896369934}\n"
     ]
    },
    {
     "name": "stderr",
     "output_type": "stream",
     "text": [
      "\n",
      "\n",
      " 57%|████████████████████████████████████████████████                                    | 4/7 [00:00<00:00, 15.00it/s]\u001b[A\u001b[A\n",
      "\n",
      "100%|████████████████████████████████████████████████████████████████████████████████████| 7/7 [00:00<00:00, 15.11it/s]\u001b[A\u001b[A\n",
      "\n",
      "\n",
      "  0%|                                                                                            | 0/7 [00:00<?, ?it/s]\u001b[A\u001b[A\n",
      "\n",
      " 29%|████████████████████████                                                            | 2/7 [00:00<00:00, 16.94it/s]\u001b[A\u001b[A"
     ]
    },
    {
     "name": "stdout",
     "output_type": "stream",
     "text": [
      "{'ner': 7.365986360993702}\n"
     ]
    },
    {
     "name": "stderr",
     "output_type": "stream",
     "text": [
      "\n",
      "\n",
      " 57%|████████████████████████████████████████████████                                    | 4/7 [00:00<00:00, 15.70it/s]\u001b[A\u001b[A\n",
      "\n",
      " 71%|████████████████████████████████████████████████████████████                        | 5/7 [00:00<00:00, 13.37it/s]\u001b[A\u001b[A\n",
      "\n",
      "100%|████████████████████████████████████████████████████████████████████████████████████| 7/7 [00:00<00:00, 13.87it/s]\u001b[A\u001b[A\n",
      "\n",
      "\n",
      "  0%|                                                                                            | 0/7 [00:00<?, ?it/s]\u001b[A\u001b[A\n",
      "\n",
      " 29%|████████████████████████                                                            | 2/7 [00:00<00:00, 15.70it/s]\u001b[A\u001b[A"
     ]
    },
    {
     "name": "stdout",
     "output_type": "stream",
     "text": [
      "{'ner': 0.4489616535345249}\n"
     ]
    },
    {
     "name": "stderr",
     "output_type": "stream",
     "text": [
      "\n",
      "\n",
      " 57%|████████████████████████████████████████████████                                    | 4/7 [00:00<00:00, 14.86it/s]\u001b[A\u001b[A\n",
      "\n",
      "100%|████████████████████████████████████████████████████████████████████████████████████| 7/7 [00:00<00:00, 15.07it/s]\u001b[A\u001b[A\n",
      "\n",
      "\n",
      "  0%|                                                                                            | 0/7 [00:00<?, ?it/s]\u001b[A\u001b[A\n",
      "\n",
      " 29%|████████████████████████                                                            | 2/7 [00:00<00:00, 16.80it/s]\u001b[A\u001b[A"
     ]
    },
    {
     "name": "stdout",
     "output_type": "stream",
     "text": [
      "{'ner': 0.02612381092749074}\n"
     ]
    },
    {
     "name": "stderr",
     "output_type": "stream",
     "text": [
      "\n",
      "\n",
      " 57%|████████████████████████████████████████████████                                    | 4/7 [00:00<00:00, 15.11it/s]\u001b[A\u001b[A\n",
      "\n",
      "100%|████████████████████████████████████████████████████████████████████████████████████| 7/7 [00:00<00:00, 14.06it/s]\u001b[A\u001b[A\n",
      "\n",
      "\n",
      "  0%|                                                                                            | 0/7 [00:00<?, ?it/s]\u001b[A\u001b[A\n",
      "\n",
      " 29%|████████████████████████                                                            | 2/7 [00:00<00:00, 15.21it/s]\u001b[A\u001b[A"
     ]
    },
    {
     "name": "stdout",
     "output_type": "stream",
     "text": [
      "{'ner': 0.023986086039548618}\n"
     ]
    },
    {
     "name": "stderr",
     "output_type": "stream",
     "text": [
      "\n",
      "\n",
      " 57%|████████████████████████████████████████████████                                    | 4/7 [00:00<00:00, 15.05it/s]\u001b[A\u001b[A\n",
      "\n",
      "100%|████████████████████████████████████████████████████████████████████████████████████| 7/7 [00:00<00:00, 13.38it/s]\u001b[A\u001b[A\n",
      "\n",
      "\n",
      "  0%|                                                                                            | 0/7 [00:00<?, ?it/s]\u001b[A\u001b[A\n",
      "\n",
      " 29%|████████████████████████                                                            | 2/7 [00:00<00:00, 14.20it/s]\u001b[A\u001b[A"
     ]
    },
    {
     "name": "stdout",
     "output_type": "stream",
     "text": [
      "{'ner': 3.4130110213137184e-08}\n"
     ]
    },
    {
     "name": "stderr",
     "output_type": "stream",
     "text": [
      "\n",
      "\n",
      " 57%|████████████████████████████████████████████████                                    | 4/7 [00:00<00:00, 13.94it/s]\u001b[A\u001b[A\n",
      "\n",
      "100%|████████████████████████████████████████████████████████████████████████████████████| 7/7 [00:00<00:00, 14.80it/s]\u001b[A\u001b[A\n",
      "\n",
      "\n",
      "  0%|                                                                                            | 0/7 [00:00<?, ?it/s]\u001b[A\u001b[A\n",
      "\n",
      " 29%|████████████████████████                                                            | 2/7 [00:00<00:00, 13.57it/s]\u001b[A\u001b[A"
     ]
    },
    {
     "name": "stdout",
     "output_type": "stream",
     "text": [
      "{'ner': 3.470850613743828e-09}\n"
     ]
    },
    {
     "name": "stderr",
     "output_type": "stream",
     "text": [
      "\n",
      "\n",
      " 57%|████████████████████████████████████████████████                                    | 4/7 [00:00<00:00, 13.24it/s]\u001b[A\u001b[A\n",
      "\n",
      "100%|████████████████████████████████████████████████████████████████████████████████████| 7/7 [00:00<00:00, 13.55it/s]\u001b[A\u001b[A\n",
      "\n",
      "\n",
      "  0%|                                                                                            | 0/7 [00:00<?, ?it/s]\u001b[A\u001b[A\n",
      "\n",
      " 29%|████████████████████████                                                            | 2/7 [00:00<00:00, 14.28it/s]\u001b[A\u001b[A"
     ]
    },
    {
     "name": "stdout",
     "output_type": "stream",
     "text": [
      "{'ner': 1.1351054012769462e-09}\n"
     ]
    },
    {
     "name": "stderr",
     "output_type": "stream",
     "text": [
      "\n",
      "\n",
      " 57%|████████████████████████████████████████████████                                    | 4/7 [00:00<00:00, 13.74it/s]\u001b[A\u001b[A\n",
      "\n",
      "100%|████████████████████████████████████████████████████████████████████████████████████| 7/7 [00:00<00:00, 12.36it/s]\u001b[A\u001b[A\n",
      "\n",
      "\n",
      "  0%|                                                                                            | 0/7 [00:00<?, ?it/s]\u001b[A\u001b[A\n",
      "\n",
      " 29%|████████████████████████                                                            | 2/7 [00:00<00:00, 12.99it/s]\u001b[A\u001b[A"
     ]
    },
    {
     "name": "stdout",
     "output_type": "stream",
     "text": [
      "{'ner': 3.121245471600367e-10}\n"
     ]
    },
    {
     "name": "stderr",
     "output_type": "stream",
     "text": [
      "\n",
      "\n",
      " 57%|████████████████████████████████████████████████                                    | 4/7 [00:00<00:00, 12.98it/s]\u001b[A\u001b[A\n",
      "\n",
      "100%|████████████████████████████████████████████████████████████████████████████████████| 7/7 [00:00<00:00, 12.26it/s]\u001b[A\u001b[A\n",
      "\n",
      "\n",
      "  0%|                                                                                            | 0/7 [00:00<?, ?it/s]\u001b[A\u001b[A\n",
      "\n",
      " 29%|████████████████████████                                                            | 2/7 [00:00<00:00, 14.72it/s]\u001b[A\u001b[A"
     ]
    },
    {
     "name": "stdout",
     "output_type": "stream",
     "text": [
      "{'ner': 4.0699873675155897e-10}\n"
     ]
    },
    {
     "name": "stderr",
     "output_type": "stream",
     "text": [
      "\n",
      "\n",
      " 57%|████████████████████████████████████████████████                                    | 4/7 [00:00<00:00, 13.65it/s]\u001b[A\u001b[A\n",
      "\n",
      "100%|████████████████████████████████████████████████████████████████████████████████████| 7/7 [00:00<00:00, 13.26it/s]\u001b[A\u001b[A\n",
      "\n",
      "\n",
      "  0%|                                                                                            | 0/7 [00:00<?, ?it/s]\u001b[A\u001b[A\n",
      "\n",
      " 29%|████████████████████████                                                            | 2/7 [00:00<00:00, 12.46it/s]\u001b[A\u001b[A"
     ]
    },
    {
     "name": "stdout",
     "output_type": "stream",
     "text": [
      "{'ner': 2.9210007763716866e-12}\n"
     ]
    },
    {
     "name": "stderr",
     "output_type": "stream",
     "text": [
      "\n",
      "\n",
      " 57%|████████████████████████████████████████████████                                    | 4/7 [00:00<00:00, 12.66it/s]\u001b[A\u001b[A\n",
      "\n",
      "100%|████████████████████████████████████████████████████████████████████████████████████| 7/7 [00:00<00:00, 12.58it/s]\u001b[A\u001b[A\n",
      "\n",
      "\n",
      "  0%|                                                                                            | 0/7 [00:00<?, ?it/s]\u001b[A\u001b[A\n",
      "\n",
      " 29%|████████████████████████                                                            | 2/7 [00:00<00:00, 15.67it/s]\u001b[A\u001b[A"
     ]
    },
    {
     "name": "stdout",
     "output_type": "stream",
     "text": [
      "{'ner': 9.06634845493955e-11}\n"
     ]
    },
    {
     "name": "stderr",
     "output_type": "stream",
     "text": [
      "\n",
      "\n",
      " 57%|████████████████████████████████████████████████                                    | 4/7 [00:00<00:00, 14.73it/s]\u001b[A\u001b[A\n",
      "\n",
      "100%|████████████████████████████████████████████████████████████████████████████████████| 7/7 [00:00<00:00, 13.75it/s]\u001b[A\u001b[A\n",
      "\n",
      "\n",
      "  0%|                                                                                            | 0/7 [00:00<?, ?it/s]\u001b[A\u001b[A\n",
      "\n",
      " 29%|████████████████████████                                                            | 2/7 [00:00<00:00, 17.26it/s]\u001b[A\u001b[A"
     ]
    },
    {
     "name": "stdout",
     "output_type": "stream",
     "text": [
      "{'ner': 6.161521024961128e-12}\n"
     ]
    },
    {
     "name": "stderr",
     "output_type": "stream",
     "text": [
      "\n",
      "\n",
      " 57%|████████████████████████████████████████████████                                    | 4/7 [00:00<00:00, 16.48it/s]\u001b[A\u001b[A\n",
      "\n",
      "100%|████████████████████████████████████████████████████████████████████████████████████| 7/7 [00:00<00:00, 15.74it/s]\u001b[A\u001b[A\n",
      "\n",
      "\n",
      "  0%|                                                                                            | 0/7 [00:00<?, ?it/s]\u001b[A\u001b[A\n",
      "\n",
      " 29%|████████████████████████                                                            | 2/7 [00:00<00:00, 15.43it/s]\u001b[A\u001b[A"
     ]
    },
    {
     "name": "stdout",
     "output_type": "stream",
     "text": [
      "{'ner': 1.0765327602069878e-13}\n"
     ]
    },
    {
     "name": "stderr",
     "output_type": "stream",
     "text": [
      "\n",
      "\n",
      " 57%|████████████████████████████████████████████████                                    | 4/7 [00:00<00:00, 15.75it/s]\u001b[A\u001b[A\n",
      "\n",
      "100%|████████████████████████████████████████████████████████████████████████████████████| 7/7 [00:00<00:00, 14.53it/s]\u001b[A\u001b[A\n",
      "\n",
      "\n",
      "  0%|                                                                                            | 0/7 [00:00<?, ?it/s]\u001b[A\u001b[A\n",
      "\n",
      " 29%|████████████████████████                                                            | 2/7 [00:00<00:00, 18.59it/s]\u001b[A\u001b[A"
     ]
    },
    {
     "name": "stdout",
     "output_type": "stream",
     "text": [
      "{'ner': 1.2369430087863771e-11}\n"
     ]
    },
    {
     "name": "stderr",
     "output_type": "stream",
     "text": [
      "\n",
      "\n",
      " 57%|████████████████████████████████████████████████                                    | 4/7 [00:00<00:00, 16.89it/s]\u001b[A\u001b[A\n",
      "\n",
      "100%|████████████████████████████████████████████████████████████████████████████████████| 7/7 [00:00<00:00, 14.70it/s]\u001b[A\u001b[A\n",
      "\n",
      "\n",
      "  0%|                                                                                            | 0/7 [00:00<?, ?it/s]\u001b[A\u001b[A\n",
      "\n",
      " 29%|████████████████████████                                                            | 2/7 [00:00<00:00, 11.20it/s]\u001b[A\u001b[A"
     ]
    },
    {
     "name": "stdout",
     "output_type": "stream",
     "text": [
      "{'ner': 2.7467378148569956e-13}\n"
     ]
    },
    {
     "name": "stderr",
     "output_type": "stream",
     "text": [
      "\n",
      "\n",
      " 57%|████████████████████████████████████████████████                                    | 4/7 [00:00<00:00, 12.17it/s]\u001b[A\u001b[A\n",
      "\n",
      "100%|████████████████████████████████████████████████████████████████████████████████████| 7/7 [00:00<00:00, 11.94it/s]\u001b[A\u001b[A\n",
      "\n",
      "\n",
      "  0%|                                                                                            | 0/7 [00:00<?, ?it/s]\u001b[A\u001b[A\n",
      "\n",
      " 29%|████████████████████████                                                            | 2/7 [00:00<00:00, 13.28it/s]\u001b[A\u001b[A"
     ]
    },
    {
     "name": "stdout",
     "output_type": "stream",
     "text": [
      "{'ner': 5.581307685543096e-10}\n"
     ]
    },
    {
     "name": "stderr",
     "output_type": "stream",
     "text": [
      "\n",
      "\n",
      " 57%|████████████████████████████████████████████████                                    | 4/7 [00:00<00:00, 12.99it/s]\u001b[A\u001b[A\n",
      "\n",
      "100%|████████████████████████████████████████████████████████████████████████████████████| 7/7 [00:00<00:00, 13.21it/s]\u001b[A\u001b[A\n",
      "\n",
      "\n",
      "  0%|                                                                                            | 0/7 [00:00<?, ?it/s]\u001b[A\u001b[A\n",
      "\n",
      " 29%|████████████████████████                                                            | 2/7 [00:00<00:00, 12.69it/s]\u001b[A\u001b[A"
     ]
    },
    {
     "name": "stdout",
     "output_type": "stream",
     "text": [
      "{'ner': 1.4990634226091253e-11}\n"
     ]
    },
    {
     "name": "stderr",
     "output_type": "stream",
     "text": [
      "\n",
      "\n",
      " 57%|████████████████████████████████████████████████                                    | 4/7 [00:00<00:00, 12.03it/s]\u001b[A\u001b[A\n",
      "\n",
      "100%|████████████████████████████████████████████████████████████████████████████████████| 7/7 [00:00<00:00, 12.78it/s]\u001b[A\u001b[A\n",
      "\n",
      "\n",
      "  0%|                                                                                            | 0/7 [00:00<?, ?it/s]\u001b[A\u001b[A\n",
      "\n",
      " 29%|████████████████████████                                                            | 2/7 [00:00<00:00, 15.82it/s]\u001b[A\u001b[A"
     ]
    },
    {
     "name": "stdout",
     "output_type": "stream",
     "text": [
      "{'ner': 1.373757445868704e-11}\n"
     ]
    },
    {
     "name": "stderr",
     "output_type": "stream",
     "text": [
      "\n",
      "\n",
      " 57%|████████████████████████████████████████████████                                    | 4/7 [00:00<00:00, 14.77it/s]\u001b[A\u001b[A\n",
      "\n",
      "100%|████████████████████████████████████████████████████████████████████████████████████| 7/7 [00:00<00:00, 13.32it/s]\u001b[A\u001b[A\n",
      "\n",
      "\n",
      "  0%|                                                                                            | 0/7 [00:00<?, ?it/s]\u001b[A\u001b[A\n",
      "\n",
      " 29%|████████████████████████                                                            | 2/7 [00:00<00:00, 13.10it/s]\u001b[A\u001b[A"
     ]
    },
    {
     "name": "stdout",
     "output_type": "stream",
     "text": [
      "{'ner': 1.0736494978935895e-12}\n"
     ]
    },
    {
     "name": "stderr",
     "output_type": "stream",
     "text": [
      "\n",
      "\n",
      " 57%|████████████████████████████████████████████████                                    | 4/7 [00:00<00:00, 13.28it/s]\u001b[A\u001b[A\n",
      "\n",
      " 71%|████████████████████████████████████████████████████████████                        | 5/7 [00:00<00:00, 11.85it/s]\u001b[A\u001b[A\n",
      "\n",
      "100%|████████████████████████████████████████████████████████████████████████████████████| 7/7 [00:00<00:00, 13.47it/s]\u001b[A\u001b[A\n",
      "\n",
      "\n",
      "  0%|                                                                                            | 0/7 [00:00<?, ?it/s]\u001b[A\u001b[A\n",
      "\n",
      " 29%|████████████████████████                                                            | 2/7 [00:00<00:00, 15.70it/s]\u001b[A\u001b[A"
     ]
    },
    {
     "name": "stdout",
     "output_type": "stream",
     "text": [
      "{'ner': 1.3566414750326182e-13}\n"
     ]
    },
    {
     "name": "stderr",
     "output_type": "stream",
     "text": [
      "\n",
      "\n",
      " 57%|████████████████████████████████████████████████                                    | 4/7 [00:00<00:00, 14.73it/s]\u001b[A\u001b[A\n",
      "\n",
      "100%|████████████████████████████████████████████████████████████████████████████████████| 7/7 [00:00<00:00, 14.05it/s]\u001b[A\u001b[A\n",
      "\n",
      "\n",
      "  0%|                                                                                            | 0/7 [00:00<?, ?it/s]\u001b[A\u001b[A\n",
      "\n",
      " 29%|████████████████████████                                                            | 2/7 [00:00<00:00, 15.95it/s]\u001b[A\u001b[A"
     ]
    },
    {
     "name": "stdout",
     "output_type": "stream",
     "text": [
      "{'ner': 2.3636626465654436e-11}\n"
     ]
    },
    {
     "name": "stderr",
     "output_type": "stream",
     "text": [
      "\n",
      "\n",
      " 57%|████████████████████████████████████████████████                                    | 4/7 [00:00<00:00, 15.53it/s]\u001b[A\u001b[A\n",
      "\n",
      "100%|████████████████████████████████████████████████████████████████████████████████████| 7/7 [00:00<00:00, 13.87it/s]\u001b[A\u001b[A\n",
      "\n",
      "\n",
      "  0%|                                                                                            | 0/7 [00:00<?, ?it/s]\u001b[A\u001b[A\n",
      "\n"
     ]
    },
    {
     "name": "stdout",
     "output_type": "stream",
     "text": [
      "{'ner': 1.3623088635480797e-12}\n"
     ]
    },
    {
     "name": "stderr",
     "output_type": "stream",
     "text": [
      " 29%|████████████████████████                                                            | 2/7 [00:00<00:00, 11.14it/s]\u001b[A\u001b[A\n",
      "\n",
      " 57%|████████████████████████████████████████████████                                    | 4/7 [00:00<00:00, 11.39it/s]\u001b[A\u001b[A\n",
      "\n",
      "100%|████████████████████████████████████████████████████████████████████████████████████| 7/7 [00:00<00:00, 12.40it/s]\u001b[A\u001b[A\n",
      "\n",
      "\n",
      "  0%|                                                                                            | 0/7 [00:00<?, ?it/s]\u001b[A\u001b[A\n",
      "\n",
      " 29%|████████████████████████                                                            | 2/7 [00:00<00:00, 14.16it/s]\u001b[A\u001b[A"
     ]
    },
    {
     "name": "stdout",
     "output_type": "stream",
     "text": [
      "{'ner': 1.0911477928549133e-11}\n"
     ]
    },
    {
     "name": "stderr",
     "output_type": "stream",
     "text": [
      "\n",
      "\n",
      " 57%|████████████████████████████████████████████████                                    | 4/7 [00:00<00:00, 14.51it/s]\u001b[A\u001b[A\n",
      "\n",
      "100%|████████████████████████████████████████████████████████████████████████████████████| 7/7 [00:00<00:00, 13.25it/s]\u001b[A\u001b[A\n",
      "\n",
      "\n",
      "  0%|                                                                                            | 0/7 [00:00<?, ?it/s]\u001b[A\u001b[A\n",
      "\n",
      " 29%|████████████████████████                                                            | 2/7 [00:00<00:00, 14.32it/s]\u001b[A\u001b[A"
     ]
    },
    {
     "name": "stdout",
     "output_type": "stream",
     "text": [
      "{'ner': 5.139370397682416e-13}\n"
     ]
    },
    {
     "name": "stderr",
     "output_type": "stream",
     "text": [
      "\n",
      "\n",
      " 57%|████████████████████████████████████████████████                                    | 4/7 [00:00<00:00, 13.65it/s]\u001b[A\u001b[A\n",
      "\n",
      " 86%|████████████████████████████████████████████████████████████████████████            | 6/7 [00:00<00:00, 13.19it/s]\u001b[A\u001b[A\n",
      "\n",
      "100%|████████████████████████████████████████████████████████████████████████████████████| 7/7 [00:00<00:00, 12.10it/s]\u001b[A\u001b[A\n",
      "\n",
      "\n",
      "  0%|                                                                                            | 0/7 [00:00<?, ?it/s]\u001b[A\u001b[A\n",
      "\n",
      " 29%|████████████████████████                                                            | 2/7 [00:00<00:00, 12.46it/s]\u001b[A\u001b[A"
     ]
    },
    {
     "name": "stdout",
     "output_type": "stream",
     "text": [
      "{'ner': 4.73736473512881e-13}\n"
     ]
    },
    {
     "name": "stderr",
     "output_type": "stream",
     "text": [
      "\n",
      "\n",
      " 57%|████████████████████████████████████████████████                                    | 4/7 [00:00<00:00, 12.21it/s]\u001b[A\u001b[A\n",
      "\n",
      " 71%|████████████████████████████████████████████████████████████                        | 5/7 [00:00<00:00, 11.34it/s]\u001b[A\u001b[A\n",
      "\n",
      "100%|████████████████████████████████████████████████████████████████████████████████████| 7/7 [00:00<00:00, 12.29it/s]\u001b[A\u001b[A\n",
      "\n",
      "\n",
      "  0%|                                                                                            | 0/7 [00:00<?, ?it/s]\u001b[A\u001b[A\n",
      "\n",
      " 29%|████████████████████████                                                            | 2/7 [00:00<00:00, 12.15it/s]\u001b[A\u001b[A"
     ]
    },
    {
     "name": "stdout",
     "output_type": "stream",
     "text": [
      "{'ner': 5.392547035605994e-13}\n"
     ]
    },
    {
     "name": "stderr",
     "output_type": "stream",
     "text": [
      "\n",
      "\n",
      " 57%|████████████████████████████████████████████████                                    | 4/7 [00:00<00:00, 12.18it/s]\u001b[A\u001b[A\n",
      "\n",
      "100%|████████████████████████████████████████████████████████████████████████████████████| 7/7 [00:00<00:00, 12.51it/s]\u001b[A\u001b[A\n",
      "\n",
      "\n",
      "  0%|                                                                                            | 0/7 [00:00<?, ?it/s]\u001b[A\u001b[A\n",
      "\n",
      " 29%|████████████████████████                                                            | 2/7 [00:00<00:00, 15.31it/s]\u001b[A\u001b[A"
     ]
    },
    {
     "name": "stdout",
     "output_type": "stream",
     "text": [
      "{'ner': 3.2121630678746475e-11}\n"
     ]
    },
    {
     "name": "stderr",
     "output_type": "stream",
     "text": [
      "\n",
      "\n",
      " 57%|████████████████████████████████████████████████                                    | 4/7 [00:00<00:00, 13.99it/s]\u001b[A\u001b[A\n",
      "\n",
      "100%|████████████████████████████████████████████████████████████████████████████████████| 7/7 [00:00<00:00, 13.74it/s]\u001b[A\u001b[A\n",
      "\n",
      "\n",
      "  0%|                                                                                            | 0/7 [00:00<?, ?it/s]\u001b[A\u001b[A\n",
      "\n",
      " 29%|████████████████████████                                                            | 2/7 [00:00<00:00, 13.19it/s]\u001b[A\u001b[A"
     ]
    },
    {
     "name": "stdout",
     "output_type": "stream",
     "text": [
      "{'ner': 1.342480248361478e-10}\n"
     ]
    },
    {
     "name": "stderr",
     "output_type": "stream",
     "text": [
      "\n",
      "\n",
      " 57%|████████████████████████████████████████████████                                    | 4/7 [00:00<00:00, 13.80it/s]\u001b[A\u001b[A\n",
      "\n",
      " 86%|████████████████████████████████████████████████████████████████████████            | 6/7 [00:00<00:00, 13.45it/s]\u001b[A\u001b[A\n",
      "\n",
      "100%|████████████████████████████████████████████████████████████████████████████████████| 7/7 [00:00<00:00, 12.67it/s]\u001b[A\u001b[A\n",
      "\n",
      "\n",
      "  0%|                                                                                            | 0/7 [00:00<?, ?it/s]\u001b[A\u001b[A\n",
      "\n",
      " 29%|████████████████████████                                                            | 2/7 [00:00<00:00, 13.83it/s]\u001b[A\u001b[A"
     ]
    },
    {
     "name": "stdout",
     "output_type": "stream",
     "text": [
      "{'ner': 3.0701455228906343e-13}\n"
     ]
    },
    {
     "name": "stderr",
     "output_type": "stream",
     "text": [
      "\n",
      "\n",
      " 57%|████████████████████████████████████████████████                                    | 4/7 [00:00<00:00, 13.25it/s]\u001b[A\u001b[A\n",
      "\n",
      "100%|████████████████████████████████████████████████████████████████████████████████████| 7/7 [00:00<00:00, 12.08it/s]\u001b[A\u001b[A\n",
      "\n",
      "\n",
      "  0%|                                                                                            | 0/7 [00:00<?, ?it/s]\u001b[A\u001b[A\n",
      "\n",
      " 29%|████████████████████████                                                            | 2/7 [00:00<00:00, 13.74it/s]\u001b[A\u001b[A"
     ]
    },
    {
     "name": "stdout",
     "output_type": "stream",
     "text": [
      "{'ner': 7.417186871164934e-14}\n"
     ]
    },
    {
     "name": "stderr",
     "output_type": "stream",
     "text": [
      "\n",
      "\n",
      " 57%|████████████████████████████████████████████████                                    | 4/7 [00:00<00:00, 12.19it/s]\u001b[A\u001b[A\n",
      "\n",
      " 71%|████████████████████████████████████████████████████████████                        | 5/7 [00:00<00:00, 11.20it/s]\u001b[A\u001b[A\n",
      "\n",
      "100%|████████████████████████████████████████████████████████████████████████████████████| 7/7 [00:00<00:00, 11.37it/s]\u001b[A\u001b[A\n",
      "\n",
      "\n",
      "  0%|                                                                                            | 0/7 [00:00<?, ?it/s]\u001b[A\u001b[A\n",
      "\n",
      " 29%|████████████████████████                                                            | 2/7 [00:00<00:00, 16.04it/s]\u001b[A\u001b[A"
     ]
    },
    {
     "name": "stdout",
     "output_type": "stream",
     "text": [
      "{'ner': 1.3395769890061254e-10}\n"
     ]
    },
    {
     "name": "stderr",
     "output_type": "stream",
     "text": [
      "\n",
      "\n",
      " 57%|████████████████████████████████████████████████                                    | 4/7 [00:00<00:00, 15.59it/s]\u001b[A\u001b[A\n",
      "\n",
      "100%|████████████████████████████████████████████████████████████████████████████████████| 7/7 [00:00<00:00, 15.84it/s]\u001b[A\u001b[A\n",
      "\n",
      "\n",
      "  0%|                                                                                            | 0/7 [00:00<?, ?it/s]\u001b[A\u001b[A\n",
      "\n",
      " 29%|████████████████████████                                                            | 2/7 [00:00<00:00, 13.93it/s]\u001b[A\u001b[A"
     ]
    },
    {
     "name": "stdout",
     "output_type": "stream",
     "text": [
      "{'ner': 8.990464037488081e-12}\n"
     ]
    },
    {
     "name": "stderr",
     "output_type": "stream",
     "text": [
      "\n",
      "\n",
      " 57%|████████████████████████████████████████████████                                    | 4/7 [00:00<00:00, 13.84it/s]\u001b[A\u001b[A\n",
      "\n",
      "100%|████████████████████████████████████████████████████████████████████████████████████| 7/7 [00:00<00:00, 14.47it/s]\u001b[A\u001b[A\n",
      "\n",
      "\n",
      "  0%|                                                                                            | 0/7 [00:00<?, ?it/s]\u001b[A\u001b[A\n",
      "\n",
      " 29%|████████████████████████                                                            | 2/7 [00:00<00:00, 17.91it/s]\u001b[A\u001b[A"
     ]
    },
    {
     "name": "stdout",
     "output_type": "stream",
     "text": [
      "{'ner': 3.615809525628935e-14}\n"
     ]
    },
    {
     "name": "stderr",
     "output_type": "stream",
     "text": [
      "\n",
      "\n",
      " 57%|████████████████████████████████████████████████                                    | 4/7 [00:00<00:00, 16.41it/s]\u001b[A\u001b[A\n",
      "\n",
      " 71%|████████████████████████████████████████████████████████████                        | 5/7 [00:00<00:00, 12.00it/s]\u001b[A\u001b[A\n",
      "\n",
      " 86%|████████████████████████████████████████████████████████████████████████            | 6/7 [00:00<00:00,  8.68it/s]\u001b[A\u001b[A\n",
      "\n",
      "100%|████████████████████████████████████████████████████████████████████████████████████| 7/7 [00:00<00:00,  8.86it/s]\u001b[A\u001b[A\n",
      "\n",
      "\n",
      "  0%|                                                                                            | 0/7 [00:00<?, ?it/s]\u001b[A\u001b[A\n",
      "\n",
      " 14%|████████████                                                                        | 1/7 [00:00<00:00,  6.55it/s]\u001b[A\u001b[A"
     ]
    },
    {
     "name": "stdout",
     "output_type": "stream",
     "text": [
      "{'ner': 1.3489719433601027e-12}\n"
     ]
    },
    {
     "name": "stderr",
     "output_type": "stream",
     "text": [
      "\n",
      "\n",
      " 29%|████████████████████████                                                            | 2/7 [00:00<00:00,  7.28it/s]\u001b[A\u001b[A\n",
      "\n",
      " 57%|████████████████████████████████████████████████                                    | 4/7 [00:00<00:00,  8.64it/s]\u001b[A\u001b[A\n",
      "\n",
      " 86%|████████████████████████████████████████████████████████████████████████            | 6/7 [00:00<00:00,  8.97it/s]\u001b[A\u001b[A\n",
      "\n",
      "100%|████████████████████████████████████████████████████████████████████████████████████| 7/7 [00:00<00:00,  9.29it/s]\u001b[A\u001b[A\n",
      "\n",
      "\n",
      "  0%|                                                                                            | 0/7 [00:00<?, ?it/s]\u001b[A\u001b[A\n",
      "\n",
      " 14%|████████████                                                                        | 1/7 [00:00<00:00,  8.96it/s]\u001b[A\u001b[A"
     ]
    },
    {
     "name": "stdout",
     "output_type": "stream",
     "text": [
      "{'ner': 7.93302076346567e-12}\n"
     ]
    },
    {
     "name": "stderr",
     "output_type": "stream",
     "text": [
      "\n",
      "\n",
      " 43%|████████████████████████████████████                                                | 3/7 [00:00<00:00,  9.23it/s]\u001b[A\u001b[A\n",
      "\n",
      " 57%|████████████████████████████████████████████████                                    | 4/7 [00:00<00:00,  9.45it/s]\u001b[A\u001b[A\n",
      "\n",
      "100%|████████████████████████████████████████████████████████████████████████████████████| 7/7 [00:00<00:00, 10.54it/s]\u001b[A\u001b[A\n",
      "\n",
      "\n",
      "  0%|                                                                                            | 0/7 [00:00<?, ?it/s]\u001b[A\u001b[A\n",
      "\n"
     ]
    },
    {
     "name": "stdout",
     "output_type": "stream",
     "text": [
      "{'ner': 2.940378194738409e-14}\n"
     ]
    },
    {
     "name": "stderr",
     "output_type": "stream",
     "text": [
      " 29%|████████████████████████                                                            | 2/7 [00:00<00:00, 11.46it/s]\u001b[A\u001b[A\n",
      "\n",
      " 57%|████████████████████████████████████████████████                                    | 4/7 [00:00<00:00, 11.31it/s]\u001b[A\u001b[A\n",
      "\n",
      "100%|████████████████████████████████████████████████████████████████████████████████████| 7/7 [00:00<00:00, 11.61it/s]\u001b[A\u001b[A\n",
      "\n",
      "\n",
      "  0%|                                                                                            | 0/7 [00:00<?, ?it/s]\u001b[A\u001b[A\n",
      "\n",
      " 29%|████████████████████████                                                            | 2/7 [00:00<00:00, 11.71it/s]\u001b[A\u001b[A"
     ]
    },
    {
     "name": "stdout",
     "output_type": "stream",
     "text": [
      "{'ner': 1.637237705693268e-10}\n"
     ]
    },
    {
     "name": "stderr",
     "output_type": "stream",
     "text": [
      "\n",
      "\n",
      " 57%|████████████████████████████████████████████████                                    | 4/7 [00:00<00:00, 11.91it/s]\u001b[A\u001b[A\n",
      "\n",
      "100%|████████████████████████████████████████████████████████████████████████████████████| 7/7 [00:00<00:00, 13.29it/s]\u001b[A\u001b[A\n",
      "\n",
      "\n",
      "  0%|                                                                                            | 0/7 [00:00<?, ?it/s]\u001b[A\u001b[A\n",
      "\n",
      " 29%|████████████████████████                                                            | 2/7 [00:00<00:00, 14.56it/s]\u001b[A\u001b[A"
     ]
    },
    {
     "name": "stdout",
     "output_type": "stream",
     "text": [
      "{'ner': 1.1410158984531492e-13}\n"
     ]
    },
    {
     "name": "stderr",
     "output_type": "stream",
     "text": [
      "\n",
      "\n",
      " 57%|████████████████████████████████████████████████                                    | 4/7 [00:00<00:00, 13.86it/s]\u001b[A\u001b[A\n",
      "\n",
      "100%|████████████████████████████████████████████████████████████████████████████████████| 7/7 [00:00<00:00, 13.37it/s]\u001b[A\u001b[A\n",
      "\n",
      "\n",
      "  0%|                                                                                            | 0/7 [00:00<?, ?it/s]\u001b[A\u001b[A\n",
      "\n",
      " 29%|████████████████████████                                                            | 2/7 [00:00<00:00, 15.34it/s]\u001b[A\u001b[A"
     ]
    },
    {
     "name": "stdout",
     "output_type": "stream",
     "text": [
      "{'ner': 1.5666659515809875e-13}\n"
     ]
    },
    {
     "name": "stderr",
     "output_type": "stream",
     "text": [
      "\n",
      "\n",
      " 57%|████████████████████████████████████████████████                                    | 4/7 [00:00<00:00, 14.78it/s]\u001b[A\u001b[A\n",
      "\n",
      "100%|████████████████████████████████████████████████████████████████████████████████████| 7/7 [00:00<00:00, 13.57it/s]\u001b[A\u001b[A\n",
      "\n",
      "\n",
      "  0%|                                                                                            | 0/7 [00:00<?, ?it/s]\u001b[A\u001b[A\n",
      "\n",
      " 29%|████████████████████████                                                            | 2/7 [00:00<00:00, 14.18it/s]\u001b[A\u001b[A"
     ]
    },
    {
     "name": "stdout",
     "output_type": "stream",
     "text": [
      "{'ner': 7.575977950145762e-11}\n"
     ]
    },
    {
     "name": "stderr",
     "output_type": "stream",
     "text": [
      "\n",
      "\n",
      " 57%|████████████████████████████████████████████████                                    | 4/7 [00:00<00:00, 14.00it/s]\u001b[A\u001b[A\n",
      "\n",
      "100%|████████████████████████████████████████████████████████████████████████████████████| 7/7 [00:00<00:00, 14.14it/s]\u001b[A\u001b[A\n",
      "\n",
      "\n",
      "  0%|                                                                                            | 0/7 [00:00<?, ?it/s]\u001b[A\u001b[A\n",
      "\n",
      " 29%|████████████████████████                                                            | 2/7 [00:00<00:00, 12.61it/s]\u001b[A\u001b[A"
     ]
    },
    {
     "name": "stdout",
     "output_type": "stream",
     "text": [
      "{'ner': 1.7740865015482161e-12}\n"
     ]
    },
    {
     "name": "stderr",
     "output_type": "stream",
     "text": [
      "\n",
      "\n",
      " 57%|████████████████████████████████████████████████                                    | 4/7 [00:00<00:00, 11.35it/s]\u001b[A\u001b[A\n",
      "\n",
      " 71%|████████████████████████████████████████████████████████████                        | 5/7 [00:00<00:00, 10.88it/s]\u001b[A\u001b[A\n",
      "\n",
      "100%|████████████████████████████████████████████████████████████████████████████████████| 7/7 [00:00<00:00, 10.67it/s]\u001b[A\u001b[A\n",
      "\n",
      "\n",
      "  0%|                                                                                            | 0/7 [00:00<?, ?it/s]\u001b[A\u001b[A\n",
      "\n",
      " 29%|████████████████████████                                                            | 2/7 [00:00<00:00, 12.73it/s]\u001b[A\u001b[A"
     ]
    },
    {
     "name": "stdout",
     "output_type": "stream",
     "text": [
      "{'ner': 4.3440139596396475e-11}\n"
     ]
    },
    {
     "name": "stderr",
     "output_type": "stream",
     "text": [
      "\n",
      "\n",
      " 57%|████████████████████████████████████████████████                                    | 4/7 [00:00<00:00, 13.24it/s]\u001b[A\u001b[A\n",
      "\n",
      "100%|████████████████████████████████████████████████████████████████████████████████████| 7/7 [00:00<00:00, 12.91it/s]\u001b[A\u001b[A\n",
      "\n",
      "\n",
      "  0%|                                                                                            | 0/7 [00:00<?, ?it/s]\u001b[A\u001b[A\n",
      "\n",
      " 29%|████████████████████████                                                            | 2/7 [00:00<00:00, 13.37it/s]\u001b[A\u001b[A"
     ]
    },
    {
     "name": "stdout",
     "output_type": "stream",
     "text": [
      "{'ner': 8.170909311591756e-12}\n"
     ]
    },
    {
     "name": "stderr",
     "output_type": "stream",
     "text": [
      "\n",
      "\n",
      " 57%|████████████████████████████████████████████████                                    | 4/7 [00:00<00:00, 14.50it/s]\u001b[A\u001b[A\n",
      "\n",
      "100%|████████████████████████████████████████████████████████████████████████████████████| 7/7 [00:00<00:00, 14.71it/s]\u001b[A\u001b[A\n",
      "\n",
      "\n",
      "  0%|                                                                                            | 0/7 [00:00<?, ?it/s]\u001b[A\u001b[A\n",
      "\n"
     ]
    },
    {
     "name": "stdout",
     "output_type": "stream",
     "text": [
      "{'ner': 4.247087574085037e-11}\n"
     ]
    },
    {
     "name": "stderr",
     "output_type": "stream",
     "text": [
      " 43%|████████████████████████████████████                                                | 3/7 [00:00<00:00, 16.85it/s]\u001b[A\u001b[A\n",
      "\n",
      " 71%|████████████████████████████████████████████████████████████                        | 5/7 [00:00<00:00, 16.70it/s]\u001b[A\u001b[A\n",
      "\n",
      "100%|████████████████████████████████████████████████████████████████████████████████████| 7/7 [00:00<00:00, 14.29it/s]\u001b[A\u001b[A\n",
      "\n",
      "\n",
      "  0%|                                                                                            | 0/7 [00:00<?, ?it/s]\u001b[A\u001b[A\n",
      "\n",
      " 29%|████████████████████████                                                            | 2/7 [00:00<00:00, 17.53it/s]\u001b[A\u001b[A"
     ]
    },
    {
     "name": "stdout",
     "output_type": "stream",
     "text": [
      "{'ner': 1.7599785465185495e-14}\n"
     ]
    },
    {
     "name": "stderr",
     "output_type": "stream",
     "text": [
      "\n",
      "\n",
      " 43%|████████████████████████████████████                                                | 3/7 [00:00<00:00, 13.67it/s]\u001b[A\u001b[A\n",
      "\n",
      " 71%|████████████████████████████████████████████████████████████                        | 5/7 [00:00<00:00, 12.93it/s]\u001b[A\u001b[A\n",
      "\n",
      "100%|████████████████████████████████████████████████████████████████████████████████████| 7/7 [00:00<00:00, 12.60it/s]\u001b[A\u001b[A\n",
      "\n",
      "\n",
      "  0%|                                                                                            | 0/7 [00:00<?, ?it/s]\u001b[A\u001b[A\n",
      "\n",
      " 29%|████████████████████████                                                            | 2/7 [00:00<00:00, 12.09it/s]\u001b[A\u001b[A"
     ]
    },
    {
     "name": "stdout",
     "output_type": "stream",
     "text": [
      "{'ner': 3.688361186093403e-12}\n"
     ]
    },
    {
     "name": "stderr",
     "output_type": "stream",
     "text": [
      "\n",
      "\n",
      " 57%|████████████████████████████████████████████████                                    | 4/7 [00:00<00:00, 12.32it/s]\u001b[A\u001b[A\n",
      "\n",
      "100%|████████████████████████████████████████████████████████████████████████████████████| 7/7 [00:00<00:00, 13.57it/s]\u001b[A\u001b[A\n",
      "\n",
      "\n",
      "  0%|                                                                                            | 0/7 [00:00<?, ?it/s]\u001b[A\u001b[A\n",
      "\n",
      " 29%|████████████████████████                                                            | 2/7 [00:00<00:00, 12.31it/s]\u001b[A\u001b[A"
     ]
    },
    {
     "name": "stdout",
     "output_type": "stream",
     "text": [
      "{'ner': 2.590606362863361e-12}\n"
     ]
    },
    {
     "name": "stderr",
     "output_type": "stream",
     "text": [
      "\n",
      "\n",
      " 57%|████████████████████████████████████████████████                                    | 4/7 [00:00<00:00, 12.70it/s]\u001b[A\u001b[A\n",
      "\n",
      "100%|████████████████████████████████████████████████████████████████████████████████████| 7/7 [00:00<00:00, 13.94it/s]\u001b[A\u001b[A\n",
      "\n",
      "\n",
      "  0%|                                                                                            | 0/7 [00:00<?, ?it/s]\u001b[A\u001b[A\n",
      "\n",
      " 29%|████████████████████████                                                            | 2/7 [00:00<00:00, 12.36it/s]\u001b[A\u001b[A"
     ]
    },
    {
     "name": "stdout",
     "output_type": "stream",
     "text": [
      "{'ner': 4.131337863224791e-10}\n"
     ]
    },
    {
     "name": "stderr",
     "output_type": "stream",
     "text": [
      "\n",
      "\n",
      " 57%|████████████████████████████████████████████████                                    | 4/7 [00:00<00:00, 12.92it/s]\u001b[A\u001b[A\n",
      "\n",
      "100%|████████████████████████████████████████████████████████████████████████████████████| 7/7 [00:00<00:00, 13.97it/s]\u001b[A\u001b[A\n",
      "\n",
      "\n",
      "  0%|                                                                                            | 0/7 [00:00<?, ?it/s]\u001b[A\u001b[A\n",
      "\n",
      " 29%|████████████████████████                                                            | 2/7 [00:00<00:00, 16.02it/s]\u001b[A\u001b[A"
     ]
    },
    {
     "name": "stdout",
     "output_type": "stream",
     "text": [
      "{'ner': 5.982565846922123e-12}\n"
     ]
    },
    {
     "name": "stderr",
     "output_type": "stream",
     "text": [
      "\n",
      "\n",
      " 57%|████████████████████████████████████████████████                                    | 4/7 [00:00<00:00, 15.44it/s]\u001b[A\u001b[A\n",
      "\n",
      "100%|████████████████████████████████████████████████████████████████████████████████████| 7/7 [00:00<00:00, 14.28it/s]\u001b[A\u001b[A\n",
      "\n",
      "\n",
      "  0%|                                                                                            | 0/7 [00:00<?, ?it/s]\u001b[A\u001b[A\n",
      "\n",
      " 29%|████████████████████████                                                            | 2/7 [00:00<00:00, 17.13it/s]\u001b[A\u001b[A"
     ]
    },
    {
     "name": "stdout",
     "output_type": "stream",
     "text": [
      "{'ner': 2.1793647158703816e-13}\n"
     ]
    },
    {
     "name": "stderr",
     "output_type": "stream",
     "text": [
      "\n",
      "\n",
      " 43%|████████████████████████████████████                                                | 3/7 [00:00<00:00, 11.04it/s]\u001b[A\u001b[A\n",
      "\n",
      " 71%|████████████████████████████████████████████████████████████                        | 5/7 [00:00<00:00, 11.81it/s]\u001b[A\u001b[A\n",
      "\n",
      " 86%|████████████████████████████████████████████████████████████████████████            | 6/7 [00:00<00:00, 10.44it/s]\u001b[A\u001b[A\n",
      "\n",
      "100%|████████████████████████████████████████████████████████████████████████████████████| 7/7 [00:00<00:00, 10.49it/s]\u001b[A\u001b[A\n",
      "\n",
      "\n",
      "  0%|                                                                                            | 0/7 [00:00<?, ?it/s]\u001b[A\u001b[A\n",
      "\n",
      " 29%|████████████████████████                                                            | 2/7 [00:00<00:00, 15.31it/s]\u001b[A\u001b[A"
     ]
    },
    {
     "name": "stdout",
     "output_type": "stream",
     "text": [
      "{'ner': 7.198503242863787e-13}\n"
     ]
    },
    {
     "name": "stderr",
     "output_type": "stream",
     "text": [
      "\n",
      "\n",
      " 43%|████████████████████████████████████                                                | 3/7 [00:00<00:00, 12.07it/s]\u001b[A\u001b[A\n",
      "\n",
      " 57%|████████████████████████████████████████████████                                    | 4/7 [00:00<00:00, 10.79it/s]\u001b[A\u001b[A\n",
      "\n",
      " 71%|████████████████████████████████████████████████████████████                        | 5/7 [00:00<00:00, 10.29it/s]\u001b[A\u001b[A\n",
      "\n",
      "100%|████████████████████████████████████████████████████████████████████████████████████| 7/7 [00:00<00:00, 10.38it/s]\u001b[A\u001b[A\n",
      "\n",
      "\n",
      "  0%|                                                                                            | 0/7 [00:00<?, ?it/s]\u001b[A\u001b[A\n",
      "\n",
      " 14%|████████████                                                                        | 1/7 [00:00<00:00,  8.43it/s]\u001b[A\u001b[A"
     ]
    },
    {
     "name": "stdout",
     "output_type": "stream",
     "text": [
      "{'ner': 1.1759518073304309e-10}\n"
     ]
    },
    {
     "name": "stderr",
     "output_type": "stream",
     "text": [
      "\n",
      "\n",
      " 43%|████████████████████████████████████                                                | 3/7 [00:00<00:00,  8.89it/s]\u001b[A\u001b[A\n",
      "\n",
      " 71%|████████████████████████████████████████████████████████████                        | 5/7 [00:00<00:00,  8.89it/s]\u001b[A\u001b[A\n",
      "\n",
      "100%|████████████████████████████████████████████████████████████████████████████████████| 7/7 [00:00<00:00,  9.69it/s]\u001b[A\u001b[A\n",
      "\n",
      "\n",
      "  0%|                                                                                            | 0/7 [00:00<?, ?it/s]\u001b[A\u001b[A\n",
      "\n",
      " 29%|████████████████████████                                                            | 2/7 [00:00<00:00, 12.69it/s]\u001b[A\u001b[A"
     ]
    },
    {
     "name": "stdout",
     "output_type": "stream",
     "text": [
      "{'ner': 8.801733123808347e-13}\n"
     ]
    },
    {
     "name": "stderr",
     "output_type": "stream",
     "text": [
      "\n",
      "\n",
      " 57%|████████████████████████████████████████████████                                    | 4/7 [00:00<00:00, 13.75it/s]\u001b[A\u001b[A\n",
      "\n",
      "100%|████████████████████████████████████████████████████████████████████████████████████| 7/7 [00:00<00:00, 14.62it/s]\u001b[A\u001b[A\n",
      "\n",
      "\n",
      "  0%|                                                                                            | 0/7 [00:00<?, ?it/s]\u001b[A\u001b[A\n",
      "\n",
      " 29%|████████████████████████                                                            | 2/7 [00:00<00:00, 14.97it/s]\u001b[A\u001b[A"
     ]
    },
    {
     "name": "stdout",
     "output_type": "stream",
     "text": [
      "{'ner': 5.045294491246504e-13}\n"
     ]
    },
    {
     "name": "stderr",
     "output_type": "stream",
     "text": [
      "\n",
      "\n",
      " 57%|████████████████████████████████████████████████                                    | 4/7 [00:00<00:00, 14.97it/s]\u001b[A\u001b[A\n",
      "\n",
      "100%|████████████████████████████████████████████████████████████████████████████████████| 7/7 [00:00<00:00, 14.33it/s]\u001b[A\u001b[A\n",
      "\n",
      "\n",
      "  0%|                                                                                            | 0/7 [00:00<?, ?it/s]\u001b[A\u001b[A\n",
      "\n",
      " 29%|████████████████████████                                                            | 2/7 [00:00<00:00, 14.32it/s]\u001b[A\u001b[A"
     ]
    },
    {
     "name": "stdout",
     "output_type": "stream",
     "text": [
      "{'ner': 1.5835449043481281e-12}\n"
     ]
    },
    {
     "name": "stderr",
     "output_type": "stream",
     "text": [
      "\n",
      "\n",
      " 57%|████████████████████████████████████████████████                                    | 4/7 [00:00<00:00, 15.13it/s]\u001b[A\u001b[A\n",
      "\n",
      "100%|████████████████████████████████████████████████████████████████████████████████████| 7/7 [00:00<00:00, 15.82it/s]\u001b[A\u001b[A\n",
      "\n",
      "\n",
      "  0%|                                                                                            | 0/7 [00:00<?, ?it/s]\u001b[A\u001b[A\n",
      "\n",
      " 29%|████████████████████████                                                            | 2/7 [00:00<00:00, 16.35it/s]\u001b[A\u001b[A"
     ]
    },
    {
     "name": "stdout",
     "output_type": "stream",
     "text": [
      "{'ner': 6.666663829290879e-12}\n"
     ]
    },
    {
     "name": "stderr",
     "output_type": "stream",
     "text": [
      "\n",
      "\n",
      " 57%|████████████████████████████████████████████████                                    | 4/7 [00:00<00:00, 15.12it/s]\u001b[A\u001b[A\n",
      "\n",
      "100%|████████████████████████████████████████████████████████████████████████████████████| 7/7 [00:00<00:00, 13.35it/s]\u001b[A\u001b[A\n",
      "\n",
      "\n",
      "  0%|                                                                                            | 0/7 [00:00<?, ?it/s]\u001b[A\u001b[A\n",
      "\n",
      " 29%|████████████████████████                                                            | 2/7 [00:00<00:00, 14.85it/s]\u001b[A\u001b[A"
     ]
    },
    {
     "name": "stdout",
     "output_type": "stream",
     "text": [
      "{'ner': 1.93107763732115e-11}\n"
     ]
    },
    {
     "name": "stderr",
     "output_type": "stream",
     "text": [
      "\n",
      "\n",
      " 57%|████████████████████████████████████████████████                                    | 4/7 [00:00<00:00, 14.85it/s]\u001b[A\u001b[A\n",
      "\n",
      "100%|████████████████████████████████████████████████████████████████████████████████████| 7/7 [00:00<00:00, 13.98it/s]\u001b[A\u001b[A\n",
      "\n",
      "\n",
      "  0%|                                                                                            | 0/7 [00:00<?, ?it/s]\u001b[A\u001b[A\n",
      "\n",
      " 29%|████████████████████████                                                            | 2/7 [00:00<00:00, 13.37it/s]\u001b[A\u001b[A"
     ]
    },
    {
     "name": "stdout",
     "output_type": "stream",
     "text": [
      "{'ner': 1.1641805452875234e-11}\n"
     ]
    },
    {
     "name": "stderr",
     "output_type": "stream",
     "text": [
      "\n",
      "\n",
      " 57%|████████████████████████████████████████████████                                    | 4/7 [00:00<00:00, 12.98it/s]\u001b[A\u001b[A\n",
      "\n",
      "100%|████████████████████████████████████████████████████████████████████████████████████| 7/7 [00:00<00:00, 13.63it/s]\u001b[A\u001b[A\n",
      "\n",
      "\n",
      "  0%|                                                                                            | 0/7 [00:00<?, ?it/s]\u001b[A\u001b[A\n",
      "\n",
      " 29%|████████████████████████                                                            | 2/7 [00:00<00:00, 13.64it/s]\u001b[A\u001b[A"
     ]
    },
    {
     "name": "stdout",
     "output_type": "stream",
     "text": [
      "{'ner': 5.684242471999762e-13}\n"
     ]
    },
    {
     "name": "stderr",
     "output_type": "stream",
     "text": [
      "\n",
      "\n",
      " 57%|████████████████████████████████████████████████                                    | 4/7 [00:00<00:00, 13.37it/s]\u001b[A\u001b[A\n",
      "\n",
      "100%|████████████████████████████████████████████████████████████████████████████████████| 7/7 [00:00<00:00, 12.62it/s]\u001b[A\u001b[A\n",
      "\n",
      "\n",
      "  0%|                                                                                            | 0/7 [00:00<?, ?it/s]\u001b[A\u001b[A"
     ]
    },
    {
     "name": "stdout",
     "output_type": "stream",
     "text": [
      "{'ner': 2.42114461585084e-10}\n"
     ]
    },
    {
     "name": "stderr",
     "output_type": "stream",
     "text": [
      "\n",
      "\n",
      " 29%|████████████████████████                                                            | 2/7 [00:00<00:00, 10.18it/s]\u001b[A\u001b[A\n",
      "\n",
      " 57%|████████████████████████████████████████████████                                    | 4/7 [00:00<00:00, 10.39it/s]\u001b[A\u001b[A\n",
      "\n",
      "100%|████████████████████████████████████████████████████████████████████████████████████| 7/7 [00:00<00:00, 11.89it/s]\u001b[A\u001b[A\n",
      "\n",
      "\n",
      "  0%|                                                                                            | 0/7 [00:00<?, ?it/s]\u001b[A\u001b[A\n",
      "\n",
      " 29%|████████████████████████                                                            | 2/7 [00:00<00:00, 14.86it/s]\u001b[A\u001b[A"
     ]
    },
    {
     "name": "stdout",
     "output_type": "stream",
     "text": [
      "{'ner': 5.290858425771313e-10}\n"
     ]
    },
    {
     "name": "stderr",
     "output_type": "stream",
     "text": [
      "\n",
      "\n",
      " 57%|████████████████████████████████████████████████                                    | 4/7 [00:00<00:00, 14.34it/s]\u001b[A\u001b[A\n",
      "\n",
      "100%|████████████████████████████████████████████████████████████████████████████████████| 7/7 [00:00<00:00, 13.66it/s]\u001b[A\u001b[A\n",
      "\n",
      "\n",
      "  0%|                                                                                            | 0/7 [00:00<?, ?it/s]\u001b[A\u001b[A\n",
      "\n",
      " 29%|████████████████████████                                                            | 2/7 [00:00<00:00, 13.65it/s]\u001b[A\u001b[A"
     ]
    },
    {
     "name": "stdout",
     "output_type": "stream",
     "text": [
      "{'ner': 2.741317556968654e-13}\n"
     ]
    },
    {
     "name": "stderr",
     "output_type": "stream",
     "text": [
      "\n",
      "\n",
      " 43%|████████████████████████████████████                                                | 3/7 [00:00<00:00, 11.31it/s]\u001b[A\u001b[A\n",
      "\n",
      " 71%|████████████████████████████████████████████████████████████                        | 5/7 [00:00<00:00, 11.81it/s]\u001b[A\u001b[A\n",
      "\n",
      "100%|████████████████████████████████████████████████████████████████████████████████████| 7/7 [00:00<00:00, 12.05it/s]\u001b[A\u001b[A\n",
      "\n",
      "\n",
      "  0%|                                                                                            | 0/7 [00:00<?, ?it/s]\u001b[A\u001b[A\n",
      "\n",
      " 29%|████████████████████████                                                            | 2/7 [00:00<00:00, 12.70it/s]\u001b[A\u001b[A"
     ]
    },
    {
     "name": "stdout",
     "output_type": "stream",
     "text": [
      "{'ner': 2.823264205951663e-10}\n"
     ]
    },
    {
     "name": "stderr",
     "output_type": "stream",
     "text": [
      "\n",
      "\n",
      " 43%|████████████████████████████████████                                                | 3/7 [00:00<00:00, 10.96it/s]\u001b[A\u001b[A\n",
      "\n",
      " 71%|████████████████████████████████████████████████████████████                        | 5/7 [00:00<00:00, 11.83it/s]\u001b[A\u001b[A\n",
      "\n",
      "100%|████████████████████████████████████████████████████████████████████████████████████| 7/7 [00:00<00:00, 12.17it/s]\u001b[A\u001b[A\n",
      "\n",
      "\n",
      "  0%|                                                                                            | 0/7 [00:00<?, ?it/s]\u001b[A\u001b[A\n",
      "\n",
      " 29%|████████████████████████                                                            | 2/7 [00:00<00:00, 12.69it/s]\u001b[A\u001b[A"
     ]
    },
    {
     "name": "stdout",
     "output_type": "stream",
     "text": [
      "{'ner': 2.324758241798101e-11}\n"
     ]
    },
    {
     "name": "stderr",
     "output_type": "stream",
     "text": [
      "\n",
      "\n",
      " 43%|████████████████████████████████████                                                | 3/7 [00:00<00:00, 11.13it/s]\u001b[A\u001b[A\n",
      "\n",
      " 71%|████████████████████████████████████████████████████████████                        | 5/7 [00:00<00:00, 11.42it/s]\u001b[A\u001b[A\n",
      "\n",
      "100%|████████████████████████████████████████████████████████████████████████████████████| 7/7 [00:00<00:00, 11.60it/s]\u001b[A\u001b[A\n",
      "\n",
      "\n",
      "  0%|                                                                                            | 0/7 [00:00<?, ?it/s]\u001b[A\u001b[A\n",
      "\n",
      " 29%|████████████████████████                                                            | 2/7 [00:00<00:00, 12.08it/s]\u001b[A\u001b[A"
     ]
    },
    {
     "name": "stdout",
     "output_type": "stream",
     "text": [
      "{'ner': 1.936156627902043e-11}\n"
     ]
    },
    {
     "name": "stderr",
     "output_type": "stream",
     "text": [
      "\n",
      "\n",
      " 57%|████████████████████████████████████████████████                                    | 4/7 [00:00<00:00, 12.26it/s]\u001b[A\u001b[A\n",
      "\n",
      "100%|████████████████████████████████████████████████████████████████████████████████████| 7/7 [00:00<00:00, 12.04it/s]\u001b[A\u001b[A\n",
      "\n",
      "\n",
      "  0%|                                                                                            | 0/7 [00:00<?, ?it/s]\u001b[A\u001b[A\n",
      "\n",
      " 29%|████████████████████████                                                            | 2/7 [00:00<00:00, 13.28it/s]\u001b[A\u001b[A"
     ]
    },
    {
     "name": "stdout",
     "output_type": "stream",
     "text": [
      "{'ner': 9.10960458923847e-13}\n"
     ]
    },
    {
     "name": "stderr",
     "output_type": "stream",
     "text": [
      "\n",
      "\n",
      " 57%|████████████████████████████████████████████████                                    | 4/7 [00:00<00:00, 12.38it/s]\u001b[A\u001b[A\n",
      "\n",
      "100%|████████████████████████████████████████████████████████████████████████████████████| 7/7 [00:00<00:00, 11.53it/s]\u001b[A\u001b[A\n",
      "\n",
      "\n",
      "  0%|                                                                                            | 0/7 [00:00<?, ?it/s]\u001b[A\u001b[A\n",
      "\n",
      " 29%|████████████████████████                                                            | 2/7 [00:00<00:00, 12.68it/s]\u001b[A\u001b[A"
     ]
    },
    {
     "name": "stdout",
     "output_type": "stream",
     "text": [
      "{'ner': 9.853306823434353e-14}\n"
     ]
    },
    {
     "name": "stderr",
     "output_type": "stream",
     "text": [
      "\n",
      "\n",
      " 57%|████████████████████████████████████████████████                                    | 4/7 [00:00<00:00, 12.33it/s]\u001b[A\u001b[A\n",
      "\n",
      "100%|████████████████████████████████████████████████████████████████████████████████████| 7/7 [00:00<00:00, 11.81it/s]\u001b[A\u001b[A\n",
      "\n",
      "\n",
      "  0%|                                                                                            | 0/7 [00:00<?, ?it/s]\u001b[A\u001b[A\n",
      "\n",
      " 29%|████████████████████████                                                            | 2/7 [00:00<00:00, 11.87it/s]\u001b[A\u001b[A"
     ]
    },
    {
     "name": "stdout",
     "output_type": "stream",
     "text": [
      "{'ner': 5.100414981240034e-09}\n"
     ]
    },
    {
     "name": "stderr",
     "output_type": "stream",
     "text": [
      "\n",
      "\n",
      " 43%|████████████████████████████████████                                                | 3/7 [00:00<00:00, 11.02it/s]\u001b[A\u001b[A\n",
      "\n",
      " 71%|████████████████████████████████████████████████████████████                        | 5/7 [00:00<00:00, 11.34it/s]\u001b[A\u001b[A\n",
      "\n",
      "100%|████████████████████████████████████████████████████████████████████████████████████| 7/7 [00:00<00:00, 11.51it/s]\u001b[A\u001b[A\n",
      "\n",
      "\n",
      "  0%|                                                                                            | 0/7 [00:00<?, ?it/s]\u001b[A\u001b[A\n",
      "\n"
     ]
    },
    {
     "name": "stdout",
     "output_type": "stream",
     "text": [
      "{'ner': 8.907184229865429e-08}\n"
     ]
    },
    {
     "name": "stderr",
     "output_type": "stream",
     "text": [
      " 29%|████████████████████████                                                            | 2/7 [00:00<00:00, 11.66it/s]\u001b[A\u001b[A\n",
      "\n",
      " 57%|████████████████████████████████████████████████                                    | 4/7 [00:00<00:00, 12.42it/s]\u001b[A\u001b[A\n",
      "\n",
      "100%|████████████████████████████████████████████████████████████████████████████████████| 7/7 [00:00<00:00, 11.74it/s]\u001b[A\u001b[A\n",
      "\n",
      "\n",
      "  0%|                                                                                            | 0/7 [00:00<?, ?it/s]\u001b[A\u001b[A\n",
      "\n"
     ]
    },
    {
     "name": "stdout",
     "output_type": "stream",
     "text": [
      "{'ner': 3.158429367343757e-08}\n"
     ]
    },
    {
     "name": "stderr",
     "output_type": "stream",
     "text": [
      " 29%|████████████████████████                                                            | 2/7 [00:00<00:00, 11.27it/s]\u001b[A\u001b[A\n",
      "\n",
      " 57%|████████████████████████████████████████████████                                    | 4/7 [00:00<00:00, 11.66it/s]\u001b[A\u001b[A\n",
      "\n",
      "100%|████████████████████████████████████████████████████████████████████████████████████| 7/7 [00:00<00:00, 12.06it/s]\u001b[A\u001b[A\n",
      "\n",
      "\n",
      "  0%|                                                                                            | 0/7 [00:00<?, ?it/s]\u001b[A\u001b[A\n",
      "\n",
      " 29%|████████████████████████                                                            | 2/7 [00:00<00:00, 12.86it/s]\u001b[A\u001b[A"
     ]
    },
    {
     "name": "stdout",
     "output_type": "stream",
     "text": [
      "{'ner': 4.0325644524874546e-10}\n"
     ]
    },
    {
     "name": "stderr",
     "output_type": "stream",
     "text": [
      "\n",
      "\n",
      " 57%|████████████████████████████████████████████████                                    | 4/7 [00:00<00:00, 12.32it/s]\u001b[A\u001b[A\n",
      "\n",
      " 71%|████████████████████████████████████████████████████████████                        | 5/7 [00:00<00:00, 11.30it/s]\u001b[A\u001b[A\n",
      "\n",
      "100%|████████████████████████████████████████████████████████████████████████████████████| 7/7 [00:00<00:00, 11.83it/s]\u001b[A\u001b[A\n",
      "\n",
      "\n",
      "  0%|                                                                                            | 0/7 [00:00<?, ?it/s]\u001b[A\u001b[A\n",
      "\n",
      " 29%|████████████████████████                                                            | 2/7 [00:00<00:00, 13.55it/s]\u001b[A\u001b[A"
     ]
    },
    {
     "name": "stdout",
     "output_type": "stream",
     "text": [
      "{'ner': 1.3483146218240212e-12}\n"
     ]
    },
    {
     "name": "stderr",
     "output_type": "stream",
     "text": [
      "\n",
      "\n",
      " 57%|████████████████████████████████████████████████                                    | 4/7 [00:00<00:00, 13.07it/s]\u001b[A\u001b[A\n",
      "\n",
      "100%|████████████████████████████████████████████████████████████████████████████████████| 7/7 [00:00<00:00, 11.76it/s]\u001b[A\u001b[A\n",
      "\n",
      "\n",
      "  0%|                                                                                            | 0/7 [00:00<?, ?it/s]\u001b[A\u001b[A\n",
      "\n",
      " 29%|████████████████████████                                                            | 2/7 [00:00<00:00, 11.93it/s]\u001b[A\u001b[A"
     ]
    },
    {
     "name": "stdout",
     "output_type": "stream",
     "text": [
      "{'ner': 1.203182403199297e-12}\n"
     ]
    },
    {
     "name": "stderr",
     "output_type": "stream",
     "text": [
      "\n",
      "\n",
      " 43%|████████████████████████████████████                                                | 3/7 [00:00<00:00, 10.71it/s]\u001b[A\u001b[A\n",
      "\n",
      " 71%|████████████████████████████████████████████████████████████                        | 5/7 [00:00<00:00, 11.16it/s]\u001b[A\u001b[A\n",
      "\n",
      "100%|████████████████████████████████████████████████████████████████████████████████████| 7/7 [00:00<00:00, 10.80it/s]\u001b[A\u001b[A\n",
      "\n",
      "\n",
      "  0%|                                                                                            | 0/7 [00:00<?, ?it/s]\u001b[A\u001b[A\n",
      "\n",
      " 29%|████████████████████████                                                            | 2/7 [00:00<00:00, 12.30it/s]\u001b[A\u001b[A"
     ]
    },
    {
     "name": "stdout",
     "output_type": "stream",
     "text": [
      "{'ner': 7.182776113057594e-14}\n"
     ]
    },
    {
     "name": "stderr",
     "output_type": "stream",
     "text": [
      "\n",
      "\n",
      " 57%|████████████████████████████████████████████████                                    | 4/7 [00:00<00:00, 12.00it/s]\u001b[A\u001b[A\n",
      "\n",
      " 71%|████████████████████████████████████████████████████████████                        | 5/7 [00:00<00:00, 11.06it/s]\u001b[A\u001b[A\n",
      "\n",
      "100%|████████████████████████████████████████████████████████████████████████████████████| 7/7 [00:00<00:00, 11.12it/s]\u001b[A\u001b[A\n",
      "\n",
      "\n",
      "  0%|                                                                                            | 0/7 [00:00<?, ?it/s]\u001b[A\u001b[A\n",
      "\n",
      " 14%|████████████                                                                        | 1/7 [00:00<00:00,  9.83it/s]\u001b[A\u001b[A"
     ]
    },
    {
     "name": "stdout",
     "output_type": "stream",
     "text": [
      "{'ner': 7.416173351565143e-10}\n"
     ]
    },
    {
     "name": "stderr",
     "output_type": "stream",
     "text": [
      "\n",
      "\n",
      " 29%|████████████████████████                                                            | 2/7 [00:00<00:00,  9.77it/s]\u001b[A\u001b[A\n",
      "\n",
      " 43%|████████████████████████████████████                                                | 3/7 [00:00<00:00,  9.71it/s]\u001b[A\u001b[A\n",
      "\n",
      " 71%|████████████████████████████████████████████████████████████                        | 5/7 [00:00<00:00,  9.76it/s]\u001b[A\u001b[A\n",
      "\n",
      "100%|████████████████████████████████████████████████████████████████████████████████████| 7/7 [00:00<00:00, 10.45it/s]\u001b[A\u001b[A\n",
      "\n",
      "\n",
      "  0%|                                                                                            | 0/7 [00:00<?, ?it/s]\u001b[A\u001b[A"
     ]
    },
    {
     "name": "stdout",
     "output_type": "stream",
     "text": [
      "{'ner': 6.490232823117673e-09}\n"
     ]
    },
    {
     "name": "stderr",
     "output_type": "stream",
     "text": [
      "\n",
      "\n",
      " 29%|████████████████████████                                                            | 2/7 [00:00<00:00, 10.91it/s]\u001b[A\u001b[A\n",
      "\n",
      " 57%|████████████████████████████████████████████████                                    | 4/7 [00:00<00:00, 10.84it/s]\u001b[A\u001b[A\n",
      "\n",
      "100%|████████████████████████████████████████████████████████████████████████████████████| 7/7 [00:00<00:00, 10.61it/s]\u001b[A\u001b[A\n",
      "\n",
      "\n",
      "  0%|                                                                                            | 0/7 [00:00<?, ?it/s]\u001b[A\u001b[A\n",
      "\n",
      " 29%|████████████████████████                                                            | 2/7 [00:00<00:00, 11.39it/s]"
     ]
    },
    {
     "name": "stdout",
     "output_type": "stream",
     "text": [
      "{'ner': 2.419520551535078e-11}\n"
     ]
    },
    {
     "name": "stderr",
     "output_type": "stream",
     "text": [
      "\u001b[A\u001b[A\n",
      "\n",
      " 43%|████████████████████████████████████                                                | 3/7 [00:00<00:00, 10.59it/s]\u001b[A\u001b[A\n",
      "\n",
      " 57%|████████████████████████████████████████████████                                    | 4/7 [00:00<00:00,  9.77it/s]\u001b[A\u001b[A\n",
      "\n",
      " 86%|████████████████████████████████████████████████████████████████████████            | 6/7 [00:00<00:00, 10.09it/s]\u001b[A\u001b[A\n",
      "\n",
      "100%|████████████████████████████████████████████████████████████████████████████████████| 7/7 [00:00<00:00, 10.05it/s]\u001b[A\u001b[A\n",
      "\n",
      "\n",
      "  0%|                                                                                            | 0/7 [00:00<?, ?it/s]\u001b[A\u001b[A\n",
      "\n",
      " 14%|████████████                                                                        | 1/7 [00:00<00:00,  8.29it/s]\u001b[A\u001b[A"
     ]
    },
    {
     "name": "stdout",
     "output_type": "stream",
     "text": [
      "{'ner': 8.716450554983252e-12}\n"
     ]
    },
    {
     "name": "stderr",
     "output_type": "stream",
     "text": [
      "\n",
      "\n",
      " 43%|████████████████████████████████████                                                | 3/7 [00:00<00:00,  9.05it/s]\u001b[A\u001b[A\n",
      "\n",
      " 71%|████████████████████████████████████████████████████████████                        | 5/7 [00:00<00:00,  9.74it/s]\u001b[A\u001b[A\n",
      "\n",
      " 86%|████████████████████████████████████████████████████████████████████████            | 6/7 [00:00<00:00,  9.81it/s]\u001b[A\u001b[A\n",
      "\n",
      "100%|████████████████████████████████████████████████████████████████████████████████████| 7/7 [00:00<00:00, 10.55it/s]\u001b[A\u001b[A\n",
      "\n",
      "\n",
      "  0%|                                                                                            | 0/7 [00:00<?, ?it/s]\u001b[A\u001b[A\n",
      "\n",
      " 29%|████████████████████████                                                            | 2/7 [00:00<00:00, 12.62it/s]\u001b[A\u001b[A"
     ]
    },
    {
     "name": "stdout",
     "output_type": "stream",
     "text": [
      "{'ner': 1.819413577046653e-11}\n"
     ]
    },
    {
     "name": "stderr",
     "output_type": "stream",
     "text": [
      "\n",
      "\n",
      " 43%|████████████████████████████████████                                                | 3/7 [00:00<00:00, 11.25it/s]\u001b[A\u001b[A\n",
      "\n",
      " 57%|████████████████████████████████████████████████                                    | 4/7 [00:00<00:00, 10.51it/s]\u001b[A\u001b[A\n",
      "\n",
      " 71%|████████████████████████████████████████████████████████████                        | 5/7 [00:00<00:00,  9.81it/s]\u001b[A\u001b[A\n",
      "\n",
      "100%|████████████████████████████████████████████████████████████████████████████████████| 7/7 [00:00<00:00, 10.02it/s]\u001b[A\u001b[A\n",
      "\n",
      "\n",
      "  0%|                                                                                            | 0/7 [00:00<?, ?it/s]\u001b[A\u001b[A\n",
      "\n",
      " 14%|████████████                                                                        | 1/7 [00:00<00:00,  8.43it/s]\u001b[A\u001b[A"
     ]
    },
    {
     "name": "stdout",
     "output_type": "stream",
     "text": [
      "{'ner': 5.909677191154471e-13}\n"
     ]
    },
    {
     "name": "stderr",
     "output_type": "stream",
     "text": [
      "\n",
      "\n",
      " 29%|████████████████████████                                                            | 2/7 [00:00<00:00,  8.51it/s]\u001b[A\u001b[A\n",
      "\n",
      " 43%|████████████████████████████████████                                                | 3/7 [00:00<00:00,  8.87it/s]\u001b[A\u001b[A\n",
      "\n",
      " 57%|████████████████████████████████████████████████                                    | 4/7 [00:00<00:00,  9.09it/s]\u001b[A\u001b[A\n",
      "\n",
      " 86%|████████████████████████████████████████████████████████████████████████            | 6/7 [00:00<00:00,  9.56it/s]\u001b[A\u001b[A\n",
      "\n",
      "100%|████████████████████████████████████████████████████████████████████████████████████| 7/7 [00:00<00:00,  9.58it/s]\u001b[A\u001b[A\n",
      "\n",
      "\n",
      "  0%|                                                                                            | 0/7 [00:00<?, ?it/s]\u001b[A\u001b[A"
     ]
    },
    {
     "name": "stdout",
     "output_type": "stream",
     "text": [
      "{'ner': 5.870966224456727e-14}\n"
     ]
    },
    {
     "name": "stderr",
     "output_type": "stream",
     "text": [
      "\n",
      "\n",
      " 29%|████████████████████████                                                            | 2/7 [00:00<00:00, 10.18it/s]\u001b[A\u001b[A\n",
      "\n",
      " 43%|████████████████████████████████████                                                | 3/7 [00:00<00:00,  9.90it/s]\u001b[A\u001b[A\n",
      "\n",
      " 57%|████████████████████████████████████████████████                                    | 4/7 [00:00<00:00,  9.44it/s]\u001b[A\u001b[A\n",
      "\n",
      " 71%|████████████████████████████████████████████████████████████                        | 5/7 [00:00<00:00,  9.24it/s]\u001b[A\u001b[A\n",
      "\n",
      " 86%|████████████████████████████████████████████████████████████████████████            | 6/7 [00:00<00:00,  9.12it/s]\u001b[A\u001b[A\n",
      "\n",
      "100%|████████████████████████████████████████████████████████████████████████████████████| 7/7 [00:00<00:00,  9.11it/s]\u001b[A\u001b[A\n",
      "\n",
      "\n",
      "  0%|                                                                                            | 0/7 [00:00<?, ?it/s]\u001b[A\u001b[A\n",
      "\n",
      " 14%|████████████                                                                        | 1/7 [00:00<00:00,  9.03it/s]\u001b[A\u001b[A"
     ]
    },
    {
     "name": "stdout",
     "output_type": "stream",
     "text": [
      "{'ner': 1.0107467868009312e-10}\n"
     ]
    },
    {
     "name": "stderr",
     "output_type": "stream",
     "text": [
      "\n",
      "\n",
      " 29%|████████████████████████                                                            | 2/7 [00:00<00:00,  9.13it/s]\u001b[A\u001b[A\n",
      "\n",
      " 43%|████████████████████████████████████                                                | 3/7 [00:00<00:00,  9.15it/s]\u001b[A\u001b[A\n",
      "\n",
      " 57%|████████████████████████████████████████████████                                    | 4/7 [00:00<00:00,  8.87it/s]\u001b[A\u001b[A\n",
      "\n",
      " 86%|████████████████████████████████████████████████████████████████████████            | 6/7 [00:00<00:00,  9.47it/s]\u001b[A\u001b[A\n",
      "\n",
      "100%|████████████████████████████████████████████████████████████████████████████████████| 7/7 [00:00<00:00,  9.40it/s]\u001b[A\u001b[A\n",
      "\n",
      "\n",
      "  0%|                                                                                            | 0/7 [00:00<?, ?it/s]\u001b[A\u001b[A"
     ]
    },
    {
     "name": "stdout",
     "output_type": "stream",
     "text": [
      "{'ner': 1.6921023806185852e-13}\n"
     ]
    },
    {
     "name": "stderr",
     "output_type": "stream",
     "text": [
      "\n",
      "\n",
      " 29%|████████████████████████                                                            | 2/7 [00:00<00:00, 10.50it/s]\u001b[A\u001b[A\n",
      "\n",
      " 43%|████████████████████████████████████                                                | 3/7 [00:00<00:00,  9.81it/s]\u001b[A\u001b[A\n",
      "\n",
      " 71%|████████████████████████████████████████████████████████████                        | 5/7 [00:00<00:00,  9.90it/s]\u001b[A\u001b[A\n",
      "\n",
      " 86%|████████████████████████████████████████████████████████████████████████            | 6/7 [00:00<00:00,  9.62it/s]\u001b[A\u001b[A\n",
      "\n",
      "100%|████████████████████████████████████████████████████████████████████████████████████| 7/7 [00:00<00:00,  9.46it/s]\u001b[A\u001b[A\n",
      "\n",
      "\n",
      "  0%|                                                                                            | 0/7 [00:00<?, ?it/s]\u001b[A\u001b[A\n",
      "\n",
      " 14%|████████████                                                                        | 1/7 [00:00<00:00,  9.74it/s]\u001b[A\u001b[A"
     ]
    },
    {
     "name": "stdout",
     "output_type": "stream",
     "text": [
      "{'ner': 7.300567647765681e-11}\n"
     ]
    },
    {
     "name": "stderr",
     "output_type": "stream",
     "text": [
      "\n",
      "\n",
      " 29%|████████████████████████                                                            | 2/7 [00:00<00:00,  9.34it/s]\u001b[A\u001b[A\n",
      "\n",
      " 57%|████████████████████████████████████████████████                                    | 4/7 [00:00<00:00,  9.81it/s]\u001b[A\u001b[A\n",
      "\n",
      " 71%|████████████████████████████████████████████████████████████                        | 5/7 [00:00<00:00,  9.72it/s]\u001b[A\u001b[A\n",
      "\n",
      "100%|████████████████████████████████████████████████████████████████████████████████████| 7/7 [00:00<00:00, 10.27it/s]\u001b[A\u001b[A\n",
      "\n",
      "\n",
      "  0%|                                                                                            | 0/7 [00:00<?, ?it/s]\u001b[A\u001b[A"
     ]
    },
    {
     "name": "stdout",
     "output_type": "stream",
     "text": [
      "{'ner': 7.018062921827867e-11}\n"
     ]
    },
    {
     "name": "stderr",
     "output_type": "stream",
     "text": [
      "\n",
      "\n",
      " 29%|████████████████████████                                                            | 2/7 [00:00<00:00, 10.22it/s]\u001b[A\u001b[A\n",
      "\n",
      " 43%|████████████████████████████████████                                                | 3/7 [00:00<00:00,  9.53it/s]\u001b[A\u001b[A\n",
      "\n",
      " 71%|████████████████████████████████████████████████████████████                        | 5/7 [00:00<00:00, 10.28it/s]\u001b[A\u001b[A\n",
      "\n",
      " 86%|████████████████████████████████████████████████████████████████████████            | 6/7 [00:00<00:00, 10.08it/s]\u001b[A\u001b[A\n",
      "\n",
      "100%|████████████████████████████████████████████████████████████████████████████████████| 7/7 [00:00<00:00,  9.99it/s]\u001b[A\u001b[A\n",
      "\n",
      "\n",
      "  0%|                                                                                            | 0/7 [00:00<?, ?it/s]\u001b[A\u001b[A\n",
      "\n",
      " 14%|████████████                                                                        | 1/7 [00:00<00:00,  8.80it/s]\u001b[A\u001b[A"
     ]
    },
    {
     "name": "stdout",
     "output_type": "stream",
     "text": [
      "{'ner': 7.714524915506119e-13}\n"
     ]
    },
    {
     "name": "stderr",
     "output_type": "stream",
     "text": [
      "\n",
      "\n",
      " 43%|████████████████████████████████████                                                | 3/7 [00:00<00:00,  9.48it/s]\u001b[A\u001b[A\n",
      "\n",
      " 71%|████████████████████████████████████████████████████████████                        | 5/7 [00:00<00:00,  9.72it/s]\u001b[A\u001b[A\n",
      "\n",
      "100%|████████████████████████████████████████████████████████████████████████████████████| 7/7 [00:00<00:00, 10.12it/s]\u001b[A\u001b[A\n",
      "\n",
      "\n",
      "  0%|                                                                                            | 0/7 [00:00<?, ?it/s]\u001b[A\u001b[A\n",
      "\n",
      " 14%|████████████                                                                        | 1/7 [00:00<00:00,  8.87it/s]\u001b[A\u001b[A"
     ]
    },
    {
     "name": "stdout",
     "output_type": "stream",
     "text": [
      "{'ner': 6.079383188253823e-13}\n"
     ]
    },
    {
     "name": "stderr",
     "output_type": "stream",
     "text": [
      "\n",
      "\n",
      " 29%|████████████████████████                                                            | 2/7 [00:00<00:00,  8.85it/s]\u001b[A\u001b[A\n",
      "\n",
      " 43%|████████████████████████████████████                                                | 3/7 [00:00<00:00,  8.83it/s]\u001b[A\u001b[A\n",
      "\n",
      " 57%|████████████████████████████████████████████████                                    | 4/7 [00:00<00:00,  8.71it/s]\u001b[A\u001b[A\n",
      "\n",
      " 71%|████████████████████████████████████████████████████████████                        | 5/7 [00:00<00:00,  8.87it/s]\u001b[A\u001b[A\n",
      "\n",
      "100%|████████████████████████████████████████████████████████████████████████████████████| 7/7 [00:00<00:00,  8.94it/s]\u001b[A\u001b[A\n",
      "\n",
      "\n",
      "  0%|                                                                                            | 0/7 [00:00<?, ?it/s]\u001b[A\u001b[A\n",
      "\n"
     ]
    },
    {
     "name": "stdout",
     "output_type": "stream",
     "text": [
      "{'ner': 4.051884637446242e-12}\n"
     ]
    },
    {
     "name": "stderr",
     "output_type": "stream",
     "text": [
      " 29%|████████████████████████                                                            | 2/7 [00:00<00:00, 10.96it/s]\u001b[A\u001b[A\n",
      "\n",
      " 57%|████████████████████████████████████████████████                                    | 4/7 [00:00<00:00, 10.96it/s]\u001b[A\u001b[A\n",
      "\n",
      " 86%|████████████████████████████████████████████████████████████████████████            | 6/7 [00:00<00:00, 10.67it/s]\u001b[A\u001b[A\n",
      "\n",
      "100%|████████████████████████████████████████████████████████████████████████████████████| 7/7 [00:00<00:00, 10.08it/s]\u001b[A\u001b[A\n",
      "\n",
      "\n",
      "  0%|                                                                                            | 0/7 [00:00<?, ?it/s]\u001b[A\u001b[A"
     ]
    },
    {
     "name": "stdout",
     "output_type": "stream",
     "text": [
      "{'ner': 1.7298865419656253e-13}\n"
     ]
    },
    {
     "name": "stderr",
     "output_type": "stream",
     "text": [
      "\n",
      "\n",
      " 29%|████████████████████████                                                            | 2/7 [00:00<00:00,  9.98it/s]\u001b[A\u001b[A\n",
      "\n",
      " 57%|████████████████████████████████████████████████                                    | 4/7 [00:00<00:00, 10.14it/s]\u001b[A\u001b[A\n",
      "\n",
      " 86%|████████████████████████████████████████████████████████████████████████            | 6/7 [00:00<00:00, 10.26it/s]\u001b[A\u001b[A\n",
      "\n",
      "100%|████████████████████████████████████████████████████████████████████████████████████| 7/7 [00:00<00:00, 10.19it/s]\u001b[A\u001b[A\n",
      "\n",
      "\n",
      "  0%|                                                                                            | 0/7 [00:00<?, ?it/s]\u001b[A\u001b[A"
     ]
    },
    {
     "name": "stdout",
     "output_type": "stream",
     "text": [
      "{'ner': 1.4244105832196948e-11}\n"
     ]
    },
    {
     "name": "stderr",
     "output_type": "stream",
     "text": [
      "\n",
      "\n",
      " 29%|████████████████████████                                                            | 2/7 [00:00<00:00, 10.41it/s]\u001b[A\u001b[A\n",
      "\n",
      " 43%|████████████████████████████████████                                                | 3/7 [00:00<00:00, 10.02it/s]\u001b[A\u001b[A\n",
      "\n",
      " 57%|████████████████████████████████████████████████                                    | 4/7 [00:00<00:00,  9.81it/s]\u001b[A\u001b[A\n",
      "\n",
      " 71%|████████████████████████████████████████████████████████████                        | 5/7 [00:00<00:00,  9.29it/s]\u001b[A\u001b[A\n",
      "\n",
      "100%|████████████████████████████████████████████████████████████████████████████████████| 7/7 [00:00<00:00,  9.61it/s]\u001b[A\u001b[A\n",
      "\n",
      "\n",
      "  0%|                                                                                            | 0/7 [00:00<?, ?it/s]\u001b[A\u001b[A\n",
      "\n",
      " 14%|████████████                                                                        | 1/7 [00:00<00:00,  9.01it/s]\u001b[A\u001b[A"
     ]
    },
    {
     "name": "stdout",
     "output_type": "stream",
     "text": [
      "{'ner': 2.721404324000177e-12}\n"
     ]
    },
    {
     "name": "stderr",
     "output_type": "stream",
     "text": [
      "\n",
      "\n",
      " 29%|████████████████████████                                                            | 2/7 [00:00<00:00,  8.88it/s]\u001b[A\u001b[A\n",
      "\n",
      " 43%|████████████████████████████████████                                                | 3/7 [00:00<00:00,  9.02it/s]\u001b[A\u001b[A\n",
      "\n",
      " 71%|████████████████████████████████████████████████████████████                        | 5/7 [00:00<00:00,  9.30it/s]\u001b[A\u001b[A\n",
      "\n",
      " 86%|████████████████████████████████████████████████████████████████████████            | 6/7 [00:00<00:00,  9.45it/s]\u001b[A\u001b[A\n",
      "\n",
      "100%|████████████████████████████████████████████████████████████████████████████████████| 7/7 [00:00<00:00,  9.13it/s]\u001b[A\u001b[A\n",
      "\n",
      "\n",
      "  0%|                                                                                            | 0/7 [00:00<?, ?it/s]\u001b[A\u001b[A\n",
      "\n",
      " 29%|████████████████████████                                                            | 2/7 [00:00<00:00, 12.09it/s]"
     ]
    },
    {
     "name": "stdout",
     "output_type": "stream",
     "text": [
      "{'ner': 1.7562314231868263e-12}\n"
     ]
    },
    {
     "name": "stderr",
     "output_type": "stream",
     "text": [
      "\u001b[A\u001b[A\n",
      "\n",
      " 43%|████████████████████████████████████                                                | 3/7 [00:00<00:00, 10.12it/s]\u001b[A\u001b[A\n",
      "\n",
      " 57%|████████████████████████████████████████████████                                    | 4/7 [00:00<00:00, 10.00it/s]\u001b[A\u001b[A\n",
      "\n",
      " 71%|████████████████████████████████████████████████████████████                        | 5/7 [00:00<00:00,  9.50it/s]\u001b[A\u001b[A\n",
      "\n",
      " 86%|████████████████████████████████████████████████████████████████████████            | 6/7 [00:00<00:00,  9.00it/s]\u001b[A\u001b[A\n",
      "\n",
      "100%|████████████████████████████████████████████████████████████████████████████████████| 7/7 [00:00<00:00,  9.15it/s]\u001b[A\u001b[A\n",
      "\n",
      "\n",
      "  0%|                                                                                            | 0/7 [00:00<?, ?it/s]\u001b[A\u001b[A\n",
      "\n",
      " 14%|████████████                                                                        | 1/7 [00:00<00:00,  9.12it/s]\u001b[A\u001b[A"
     ]
    },
    {
     "name": "stdout",
     "output_type": "stream",
     "text": [
      "{'ner': 3.4524676913635763e-10}\n"
     ]
    },
    {
     "name": "stderr",
     "output_type": "stream",
     "text": [
      "\n",
      "\n",
      " 29%|████████████████████████                                                            | 2/7 [00:00<00:00,  9.07it/s]\u001b[A\u001b[A\n",
      "\n",
      " 43%|████████████████████████████████████                                                | 3/7 [00:00<00:00,  9.06it/s]\u001b[A\u001b[A\n",
      "\n",
      " 71%|████████████████████████████████████████████████████████████                        | 5/7 [00:00<00:00,  9.42it/s]\u001b[A\u001b[A\n",
      "\n",
      "100%|████████████████████████████████████████████████████████████████████████████████████| 7/7 [00:00<00:00,  9.70it/s]\u001b[A\u001b[A\n",
      "\n",
      "\n",
      "  0%|                                                                                            | 0/7 [00:00<?, ?it/s]\u001b[A\u001b[A\n",
      "\n",
      " 14%|████████████                                                                        | 1/7 [00:00<00:00,  8.64it/s]\u001b[A\u001b[A"
     ]
    },
    {
     "name": "stdout",
     "output_type": "stream",
     "text": [
      "{'ner': 2.002768539963255e-11}\n"
     ]
    },
    {
     "name": "stderr",
     "output_type": "stream",
     "text": [
      "\n",
      "\n",
      " 43%|████████████████████████████████████                                                | 3/7 [00:00<00:00,  9.12it/s]\u001b[A\u001b[A\n",
      "\n",
      " 57%|████████████████████████████████████████████████                                    | 4/7 [00:00<00:00,  9.12it/s]\u001b[A\u001b[A\n",
      "\n",
      " 71%|████████████████████████████████████████████████████████████                        | 5/7 [00:00<00:00,  9.17it/s]\u001b[A\u001b[A\n",
      "\n",
      "100%|████████████████████████████████████████████████████████████████████████████████████| 7/7 [00:00<00:00,  9.43it/s]\u001b[A\u001b[A\n",
      "\n",
      "\n",
      "  0%|                                                                                            | 0/7 [00:00<?, ?it/s]\u001b[A\u001b[A"
     ]
    },
    {
     "name": "stdout",
     "output_type": "stream",
     "text": [
      "{'ner': 7.627077821517759e-13}\n"
     ]
    },
    {
     "name": "stderr",
     "output_type": "stream",
     "text": [
      "\n",
      "\n",
      " 29%|████████████████████████                                                            | 2/7 [00:00<00:00,  9.64it/s]\u001b[A\u001b[A\n",
      "\n",
      " 43%|████████████████████████████████████                                                | 3/7 [00:00<00:00,  9.24it/s]\u001b[A\u001b[A\n",
      "\n",
      " 57%|████████████████████████████████████████████████                                    | 4/7 [00:00<00:00,  9.38it/s]\u001b[A\u001b[A\n",
      "\n",
      " 71%|████████████████████████████████████████████████████████████                        | 5/7 [00:00<00:00,  9.35it/s]\u001b[A\u001b[A\n",
      "\n",
      " 86%|████████████████████████████████████████████████████████████████████████            | 6/7 [00:00<00:00,  9.26it/s]\u001b[A\u001b[A\n",
      "\n",
      "100%|████████████████████████████████████████████████████████████████████████████████████| 7/7 [00:00<00:00,  9.13it/s]\u001b[A\u001b[A\n",
      "\n",
      "\n",
      "  0%|                                                                                            | 0/7 [00:00<?, ?it/s]\u001b[A\u001b[A\n",
      "\n",
      " 14%|████████████                                                                        | 1/7 [00:00<00:00,  7.96it/s]\u001b[A\u001b[A"
     ]
    },
    {
     "name": "stdout",
     "output_type": "stream",
     "text": [
      "{'ner': 3.222271347515013e-11}\n"
     ]
    },
    {
     "name": "stderr",
     "output_type": "stream",
     "text": [
      "\n",
      "\n",
      " 29%|████████████████████████                                                            | 2/7 [00:00<00:00,  8.34it/s]\u001b[A\u001b[A\n",
      "\n",
      " 57%|████████████████████████████████████████████████                                    | 4/7 [00:00<00:00,  8.86it/s]\u001b[A\u001b[A\n",
      "\n",
      " 71%|████████████████████████████████████████████████████████████                        | 5/7 [00:00<00:00,  8.66it/s]\u001b[A\u001b[A\n",
      "\n",
      " 86%|████████████████████████████████████████████████████████████████████████            | 6/7 [00:00<00:00,  8.84it/s]\u001b[A\u001b[A\n",
      "\n",
      "100%|████████████████████████████████████████████████████████████████████████████████████| 7/7 [00:00<00:00,  9.08it/s]\u001b[A\u001b[A\n",
      "\n",
      "\n",
      "  0%|                                                                                            | 0/7 [00:00<?, ?it/s]\u001b[A\u001b[A\n",
      "\n",
      " 14%|████████████                                                                        | 1/7 [00:00<00:00,  9.20it/s]\u001b[A\u001b[A"
     ]
    },
    {
     "name": "stdout",
     "output_type": "stream",
     "text": [
      "{'ner': 6.324727411063327e-12}\n"
     ]
    },
    {
     "name": "stderr",
     "output_type": "stream",
     "text": [
      "\n",
      "\n",
      " 29%|████████████████████████                                                            | 2/7 [00:00<00:00,  9.00it/s]\u001b[A\u001b[A\n",
      "\n",
      " 43%|████████████████████████████████████                                                | 3/7 [00:00<00:00,  8.59it/s]\u001b[A\u001b[A\n",
      "\n",
      " 71%|████████████████████████████████████████████████████████████                        | 5/7 [00:00<00:00,  8.80it/s]\u001b[A\u001b[A\n",
      "\n",
      "100%|████████████████████████████████████████████████████████████████████████████████████| 7/7 [00:00<00:00,  9.25it/s]\u001b[A\u001b[A"
     ]
    },
    {
     "name": "stdout",
     "output_type": "stream",
     "text": [
      "{'ner': 2.5637174861911394e-12}\n"
     ]
    },
    {
     "name": "stderr",
     "output_type": "stream",
     "text": [
      "\n"
     ]
    }
   ],
   "source": [
    "# get names of other pipes to disable them during training\n",
    "other_pipes = [pipe for pipe in nlp.pipe_names if pipe != 'ner']\n",
    "with nlp.disable_pipes(*other_pipes):  # only train NER\n",
    "    optimizer = nlp.begin_training()\n",
    "    for itn in range(n_iter):\n",
    "        random.shuffle(train)\n",
    "        losses = {}\n",
    "        for text, annotations in tqdm(train):\n",
    "            nlp.update(\n",
    "                [text],  # batch of texts\n",
    "                [annotations],  # batch of annotations\n",
    "                drop=0.5,  # dropout - make it harder to memorise data\n",
    "                sgd=optimizer,  # callable to update weights\n",
    "                losses=losses)\n",
    "        print(losses)"
   ]
  },
  {
   "cell_type": "code",
   "execution_count": 399,
   "metadata": {},
   "outputs": [
    {
     "name": "stdout",
     "output_type": "stream",
     "text": [
      "Entities []\n",
      "Tokens [('ONE', '', 2), ('Downy', '', 2), ('Liquid', '', 2), ('Fabric', '', 2), ('Conditioner', '', 2)]\n",
      "Entities []\n",
      "Tokens [('Bounce', '', 2), ('/', '', 2), ('Downy', '', 2), ('Wrinkle', '', 2), ('Guard', '', 2), ('includes', '', 2), (',', '', 2), ('something', '', 2), ('else', '', 2)]\n",
      "Entities []\n",
      "Tokens [('72', '', 2), ('ld', '', 2), ('or', '', 2), ('larger', '', 2), ('(', '', 2), ('includes', '', 2), ('Downy', '', 2), ('Odor', '', 2), ('Protect', '', 2), ('48', '', 2), ('oz', '', 2), ('or', '', 2), ('larger', '', 2), ('OR', '', 2), ('Downy', '', 2), ('Wrinkle', '', 2), ('Guard', '', 2), ('40', '', 2), ('oz', '', 2)]\n",
      "Entities []\n",
      "Tokens [('Downy', '', 2), ('Nature', '', 2), ('Blends', '', 2), ('ppp', '', 2), ('p', '', 2), ('p', '', 2), ('you', '', 2)]\n",
      "Entities []\n",
      "Tokens [('Downy', '', 2), ('Unstopables', '', 2), ('os', '', 2), ('not', '', 2), ('the', '', 2), ('best', '', 2), ('ything', '', 2), ('to', '', 2), ('buy', '', 2)]\n",
      "Entities []\n",
      "Tokens [('Included', '', 2), ('/', '', 2), ('excludes', '', 2), ('/', '', 2), ('whatever', '', 2), ('Downy', '', 2), ('Libre', '', 2), ('Enjuague', '', 2)]\n",
      "Entities []\n",
      "Tokens [('Bounce', '', 2), ('/', '', 2), ('Downy', '', 2), ('Sheets', '', 2)]\n"
     ]
    }
   ],
   "source": [
    "# test the trained model\n",
    "for text, _ in train:\n",
    "    doc = nlp(text)\n",
    "    print('Entities', [(ent.text, ent.label_) for ent in doc.ents])\n",
    "    print('Tokens', [(t.text, t.ent_type_, t.ent_iob) for t in doc])"
   ]
  },
  {
   "cell_type": "markdown",
   "metadata": {},
   "source": [
    "For some reason the NER is not able to identify a single Named Entity, even though the losses are pretty low."
   ]
  },
  {
   "cell_type": "code",
   "execution_count": 400,
   "metadata": {},
   "outputs": [
    {
     "name": "stdout",
     "output_type": "stream",
     "text": [
      "Entities [('ONE', 'CARDINAL'), ('Downy Liquid Fabric', 'ORG')]\n",
      "Tokens [('ONE', 'CARDINAL', 3), ('Downy', 'ORG', 3), ('Liquid', 'ORG', 1), ('Fabric', 'ORG', 1), ('Conditioner', '', 2)]\n",
      "Entities [('Downy Wrinkle Guard', 'ORG')]\n",
      "Tokens [('Bounce', '', 2), ('/', '', 2), ('Downy', 'ORG', 3), ('Wrinkle', 'ORG', 1), ('Guard', 'ORG', 1), ('includes', '', 2), (',', '', 2), ('something', '', 2), ('else', '', 2)]\n",
      "Entities [('72', 'CARDINAL'), ('Downy Odor Protect', 'LOC'), ('48', 'DATE'), ('Downy Wrinkle Guard 40', 'WORK_OF_ART')]\n",
      "Tokens [('72', 'CARDINAL', 3), ('ld', '', 2), ('or', '', 2), ('larger', '', 2), ('(', '', 2), ('includes', '', 2), ('Downy', 'LOC', 3), ('Odor', 'LOC', 1), ('Protect', 'LOC', 1), ('48', 'DATE', 3), ('oz', '', 2), ('or', '', 2), ('larger', '', 2), ('OR', '', 2), ('Downy', 'WORK_OF_ART', 3), ('Wrinkle', 'WORK_OF_ART', 1), ('Guard', 'WORK_OF_ART', 1), ('40', 'WORK_OF_ART', 1), ('oz', '', 2)]\n",
      "Entities [('Downy Nature Blends', 'ORG')]\n",
      "Tokens [('Downy', 'ORG', 3), ('Nature', 'ORG', 1), ('Blends', 'ORG', 1), ('ppp', '', 2), ('p', '', 2), ('p', '', 2), ('you', '', 2)]\n",
      "Entities []\n",
      "Tokens [('Downy', '', 2), ('Unstopables', '', 2), ('os', '', 2), ('not', '', 2), ('the', '', 2), ('best', '', 2), ('ything', '', 2), ('to', '', 2), ('buy', '', 2)]\n",
      "Entities [('Downy Libre', 'ORG')]\n",
      "Tokens [('Included', '', 2), ('/', '', 2), ('excludes', '', 2), ('/', '', 2), ('whatever', '', 2), ('Downy', 'ORG', 3), ('Libre', 'ORG', 1), ('Enjuague', '', 2)]\n",
      "Entities []\n",
      "Tokens [('Bounce', '', 2), ('/', '', 2), ('Downy', '', 2), ('Sheets', '', 2)]\n"
     ]
    }
   ],
   "source": [
    "nlp2=spacy.load('en')\n",
    "# test the trained model\n",
    "for text, _ in train:\n",
    "    doc = nlp2(text)\n",
    "    print('Entities', [(ent.text, ent.label_) for ent in doc.ents])\n",
    "    print('Tokens', [(t.text, t.ent_type_, t.ent_iob) for t in doc])"
   ]
  },
  {
   "cell_type": "markdown",
   "metadata": {},
   "source": [
    "The built in NER seems to work better on our data."
   ]
  }
 ],
 "metadata": {
  "kernelspec": {
   "display_name": "Python 3",
   "language": "python",
   "name": "python3"
  },
  "language_info": {
   "codemirror_mode": {
    "name": "ipython",
    "version": 3
   },
   "file_extension": ".py",
   "mimetype": "text/x-python",
   "name": "python",
   "nbconvert_exporter": "python",
   "pygments_lexer": "ipython3",
   "version": "3.7.5"
  }
 },
 "nbformat": 4,
 "nbformat_minor": 2
}
